{
 "cells": [
  {
   "cell_type": "markdown",
   "metadata": {
    "id": "1jjPr0k6_i4y"
   },
   "source": [
    "# Notebook for report figures construction\n",
    "\n",
    "This notebook is meant to be run on Google colab, otherwise paths to subject data and modules might need adjustments"
   ]
  },
  {
   "cell_type": "code",
   "execution_count": null,
   "metadata": {
    "id": "-ktUDCkMcn2G"
   },
   "outputs": [],
   "source": [
    "### Mount google drive if available\n",
    "try:\n",
    "    from google.colab import drive\n",
    "    drive.mount('/content/drive')\n",
    "    drive_path = '/content/drive/MyDrive/term_paper/'\n",
    "    in_colab = True\n",
    "except:\n",
    "    drive_path = ''\n",
    "    in_colab = False"
   ]
  },
  {
   "cell_type": "code",
   "execution_count": null,
   "metadata": {
    "colab": {
     "background_save": true
    },
    "id": "kMBdV5MKd5ku"
   },
   "outputs": [],
   "source": [
    "### Install all dependecies\n",
    "\n",
    "# pytorch3d\n",
    "import os\n",
    "import sys\n",
    "import torch\n",
    "\n",
    "need_pytorch3d=False\n",
    "try:\n",
    "    import pytorch3d\n",
    "except ModuleNotFoundError:\n",
    "    need_pytorch3d=True\n",
    "\n",
    "if need_pytorch3d:\n",
    "    if torch.__version__.startswith(\"1.10.\") and sys.platform.startswith(\"linux\"):\n",
    "        # We try to install PyTorch3D via a released wheel.\n",
    "        pyt_version_str=torch.__version__.split(\"+\")[0].replace(\".\", \"\")\n",
    "        version_str=\"\".join([\n",
    "            f\"py3{sys.version_info.minor}_cu\",\n",
    "            torch.version.cuda.replace(\".\",\"\"),\n",
    "            f\"_pyt{pyt_version_str}\"\n",
    "        ])\n",
    "        !pip install pytorch3d -f https://dl.fbaipublicfiles.com/pytorch3d/packaging/wheels/{version_str}/download.html\n",
    "    else:\n",
    "        # We try to install PyTorch3D from source.\n",
    "        !curl -LO https://github.com/NVIDIA/cub/archive/1.10.0.tar.gz\n",
    "        !tar xzf 1.10.0.tar.gz\n",
    "        os.environ[\"CUB_HOME\"] = os.getcwd() + \"/cub-1.10.0\"\n",
    "        !pip install 'git+https://github.com/facebookresearch/pytorch3d.git@stable'\n",
    "\n",
    "\n",
    "# smplx\n",
    "need_smplx=False\n",
    "try:\n",
    "    import smplx\n",
    "except ModuleNotFoundError:\n",
    "    need_smplx=True\n",
    "\n",
    "if need_smplx:\n",
    "    !pip install smplx\n",
    "    !git clone https://github.com/vchoutas/smplx\n",
    "    %cd smplx\n",
    "    !python setup.py install\n",
    "    %cd ..\n",
    "\n",
    "\n",
    "# detectron2\n",
    "need_detectron=False\n",
    "try:\n",
    "    import detectron2\n",
    "except ModuleNotFoundError:\n",
    "    need_detectron=True   \n",
    "\n",
    "if need_detectron:\n",
    "    !git clone https://github.com/facebookresearch/detectron2.git detectron2_repo\n",
    "    !python -m pip install 'git+https://github.com/facebookresearch/detectron2.git'\n",
    "\n",
    "\n",
    "# cleanup\n",
    "!rm -rf 1.10.0.tar.gz cub-1.10.0/"
   ]
  },
  {
   "cell_type": "code",
   "execution_count": null,
   "metadata": {
    "id": "1Jnto7-1egKX"
   },
   "outputs": [],
   "source": [
    "### Download data if not done yet\n",
    "\n",
    "import os\n",
    "import zipfile\n",
    "import urllib.request as request\n",
    "\n",
    "attributes = ['body', 'body_texture']\n",
    "\n",
    "subject = 1\n",
    "\n",
    "if not os.path.exists('subject_%d' % subject):\n",
    "    for attr in attributes:\n",
    "        url = os.path.join('https://humbi-dataset.s3.amazonaws.com', attr + '_subject', 'subject_%d.zip' % subject)\n",
    "        path = '%s_subject_%d.zip' % (attr, subject)\n",
    "        request.urlretrieve(url, path)\n",
    "        downloaded_zip = zipfile.ZipFile(path)\n",
    "        downloaded_zip.extractall() # !unzip downloaded_zip\n",
    "        os.remove(path)"
   ]
  },
  {
   "cell_type": "code",
   "execution_count": null,
   "metadata": {
    "id": "dUmgTuCQi5qr"
   },
   "outputs": [],
   "source": [
    "import smplx\n",
    "import numpy as np\n",
    "import matplotlib.pyplot as plt\n",
    "from torchvision.io import read_image\n",
    "\n",
    "from pytorch3d.io import load_obj, save_obj\n",
    "from pytorch3d.structures import Meshes, packed_to_list\n",
    "from pytorch3d.transforms import axis_angle_to_matrix\n",
    "from pytorch3d.renderer import PerspectiveCameras, TexturesUV, TexturesVertex\n",
    "\n",
    "from utils.plot_structures import plot_structure\n",
    "from utils.smpl_to_smplx import extract_smpl_param, humbi_smpl_mesh\n",
    "from utils.camera_calibration import get_camera_parameters\n",
    "from utils.renderers import get_renderers\n",
    "from utils.pointrend_segmentation import get_pointrend_segmentation"
   ]
  },
  {
   "cell_type": "code",
   "execution_count": null,
   "metadata": {
    "id": "kL0eeQ5Ce5vg"
   },
   "outputs": [],
   "source": [
    "### Setup\n",
    "device = torch.device('cuda' if torch.cuda.is_available() else 'cpu')"
   ]
  },
  {
   "cell_type": "code",
   "execution_count": null,
   "metadata": {
    "id": "OZCGEqnyfOJq"
   },
   "outputs": [],
   "source": [
    "### Global arguments\n",
    "pose = '00000025' # T-pose\n",
    "\n",
    "smpl_obj = drive_path + 'smplx/smpl_uv.obj'\n",
    "smplx_obj = drive_path + 'smplx/smplx_uv.obj'\n",
    "\n",
    "save_path = drive_path + 'tmp_files/figures'\n",
    "\n",
    "smplx_model_path = drive_path + 'smplx'\n",
    "smplx_model = smplx.SMPLXLayer(smplx_model_path, gender='neutral').to(device)"
   ]
  },
  {
   "cell_type": "code",
   "execution_count": null,
   "metadata": {
    "id": "QBNjWaWovXy2"
   },
   "outputs": [],
   "source": [
    "### Construct TexturesUV object\n",
    "def construct_textures_uv(filepath:str, obj_path:str):\n",
    "    texture = read_image(filepath)\n",
    "    texture = torch.moveaxis(texture, 0, 2).unsqueeze(0).to(device).float() * 1.0/255\n",
    "\n",
    "    default_mesh = load_obj(obj_path, load_textures=False)\n",
    "    verts_uvs = default_mesh[2].verts_uvs.to(device).unsqueeze(0).to(device)\n",
    "    faces_uvs = default_mesh[1].textures_idx.to(device).unsqueeze(0).to(device)\n",
    "\n",
    "    texture_uv = TexturesUV(maps=texture, faces_uvs=faces_uvs, verts_uvs=verts_uvs)\n",
    "\n",
    "    return texture_uv"
   ]
  },
  {
   "cell_type": "code",
   "execution_count": null,
   "metadata": {
    "id": "-z1hp81urKt8"
   },
   "outputs": [],
   "source": [
    "### Convert TexturesUV to TexturesVertex\n",
    "def convert_to_textureVertex(textures_uv: TexturesUV, meshes:Meshes) -> TexturesVertex:\n",
    "    verts_colors_packed = torch.zeros_like(meshes.verts_packed())\n",
    "    verts_colors_packed[meshes.faces_packed()] = textures_uv.faces_verts_textures_packed().to(device)\n",
    "    return TexturesVertex( packed_to_list(verts_colors_packed, meshes.num_verts_per_mesh()) )"
   ]
  },
  {
   "cell_type": "code",
   "execution_count": null,
   "metadata": {
    "id": "3acekATF1c4o"
   },
   "outputs": [],
   "source": [
    "def renders(subject, pose, mesh, camera_idx):\n",
    "    # Extract camera parameters\n",
    "    R, T, f, p = get_camera_parameters(subject, camera_idx)\n",
    "\n",
    "    # Construct camera\n",
    "    cameras = PerspectiveCameras(focal_length=-f, principal_point=p, R=R, T=T, in_ndc=False, image_size=((1080, 1920),), device=device)\n",
    "    \n",
    "    # Render mesh from camera viewpoint\n",
    "    silhouette_renderer, phong_renderer = get_renderers(cameras, (1080, 1920), device=device)\n",
    "    phong_render = phong_renderer(mesh)\n",
    "    silhouette_render = silhouette_renderer(mesh)\n",
    "\n",
    "    rgb_render = phong_render[0, ..., :3]\n",
    "    silh_render = silhouette_render[0, ..., 3]\n",
    "\n",
    "    return silh_render, rgb_render"
   ]
  },
  {
   "cell_type": "markdown",
   "metadata": {
    "id": "L8jNAoRUu9Wn"
   },
   "source": [
    "# SMPL-X model construction"
   ]
  },
  {
   "cell_type": "code",
   "execution_count": null,
   "metadata": {
    "id": "x1fvddTsf6_9"
   },
   "outputs": [],
   "source": [
    "### Extract geometry parameters\n",
    "geometry_filename = drive_path + 'humbi_output/humbi_smplx_npz/output_subject_%d.npz' % subject\n",
    "npzfile = np.load(geometry_filename)\n",
    "\n",
    "# stored into npz file\n",
    "body_pose = torch.Tensor(npzfile['body_pose']).to(device)\n",
    "betas = torch.Tensor(npzfile['betas']).to(device)\n",
    "scale = torch.Tensor(npzfile['scale']).to(device)\n",
    "verts_disps = torch.Tensor(npzfile['verts_disps']).to(device)\n",
    "learned_geometry = torch.Tensor(npzfile['learned_geometry']).to(device)\n",
    "\n",
    "# extract from smpl\n",
    "transl, global_orient = extract_smpl_param(subject, pose)[1:3]"
   ]
  },
  {
   "cell_type": "code",
   "execution_count": null,
   "metadata": {
    "id": "w8SbeHmcl88a"
   },
   "outputs": [],
   "source": [
    "### Construct SMPL-X model\n",
    "smplx_faces = torch.Tensor(smplx_model.faces.astype('int')).type(torch.int32).unsqueeze(0).to(device)\n",
    "\n",
    "smplx_verts = smplx_model.forward(global_orient=axis_angle_to_matrix(global_orient),\n",
    "                                  body_pose=axis_angle_to_matrix(body_pose),\n",
    "                                  betas=betas)['vertices'].to(device)\n",
    "\n",
    "smplx_mesh = Meshes(smplx_verts * scale + transl, smplx_faces)\n",
    "\n",
    "smplx_txt_path = drive_path + 'humbi_output/humbi_smplx_rgb/rgb_texture_%d.png' % subject\n",
    "smplx_texture = construct_textures_uv(smplx_txt_path, smplx_obj)\n",
    "\n",
    "verts_smplx_disp = (smplx_verts * scale) + (smplx_mesh.verts_normals_packed() * verts_disps).unsqueeze(0)\n",
    "smplx_mesh = Meshes(verts_smplx_disp + transl, smplx_faces, smplx_texture)"
   ]
  },
  {
   "cell_type": "code",
   "execution_count": null,
   "metadata": {
    "id": "4pfxXtoKkLRr"
   },
   "outputs": [],
   "source": [
    "### Default SMPL-X model\n",
    "init_verts = smplx_model.forward()['vertices'].to(device)\n",
    "init_mesh = Meshes(init_verts, smplx_faces)"
   ]
  },
  {
   "cell_type": "code",
   "execution_count": null,
   "metadata": {
    "id": "cXNsVU2ayZDX"
   },
   "outputs": [],
   "source": [
    "### SMPL-X mesh with TexturesVertex for interactive plotting\n",
    "smplx_texture_verts = convert_to_textureVertex(smplx_texture, smplx_mesh)\n",
    "smplx_mesh_plot = Meshes(smplx_mesh.verts_padded(), smplx_mesh.faces_padded(), smplx_texture_verts)"
   ]
  },
  {
   "cell_type": "markdown",
   "metadata": {
    "id": "SFHSINLZx8I1"
   },
   "source": [
    "# SMPL model construction"
   ]
  },
  {
   "cell_type": "code",
   "execution_count": null,
   "metadata": {
    "id": "Rjj4ZJHho2Lu"
   },
   "outputs": [],
   "source": [
    "smpl_mesh = humbi_smpl_mesh(subject, pose)\n",
    "\n",
    "smpl_txt_path = 'subject_%d/body/%s/appearance/median_map.png' % (subject, pose)\n",
    "smpl_texture = construct_textures_uv(smpl_txt_path, smpl_obj)\n",
    "\n",
    "smpl_mesh = Meshes(smpl_mesh.verts_padded(), smpl_mesh.faces_padded(), smpl_texture)"
   ]
  },
  {
   "cell_type": "code",
   "execution_count": null,
   "metadata": {
    "id": "n49TlQ-ayrv4"
   },
   "outputs": [],
   "source": [
    "### SMPL mesh with TexturesVertex for interactive plotting\n",
    "smpl_texture_verts = convert_to_textureVertex(smpl_texture, smpl_mesh)\n",
    "smpl_mesh_plot = Meshes(smpl_mesh.verts_padded(), smpl_mesh.faces_padded(), smpl_texture_verts)"
   ]
  },
  {
   "cell_type": "markdown",
   "metadata": {
    "id": "n7OL0MkHzBVR"
   },
   "source": [
    "# Plotting and Saving"
   ]
  },
  {
   "cell_type": "code",
   "execution_count": null,
   "metadata": {
    "id": "e0MregxSp4je"
   },
   "outputs": [],
   "source": [
    "### Interactive plotting\n",
    "plot_structure([smpl_mesh_plot, smplx_mesh_plot])"
   ]
  },
  {
   "cell_type": "code",
   "execution_count": null,
   "metadata": {
    "id": "QC1Fd93gievz"
   },
   "outputs": [],
   "source": [
    "### Store SMPL and initial SMPL-X mesh as .obj files\n",
    "os.makedirs(save_path, exist_ok=True)\n",
    "smpl_filename = os.path.join(save_path, 'smpl_mesh.obj')\n",
    "smplx_filename = os.path.join(save_path, 'smplx_mesh.obj')\n",
    "\n",
    "save_obj(smpl_filename, verts=smpl_mesh.verts_packed(), faces=smpl_mesh.faces_packed())\n",
    "save_obj(smplx_filename, verts=init_mesh.verts_packed(), faces=init_mesh.faces_packed())"
   ]
  },
  {
   "cell_type": "code",
   "execution_count": null,
   "metadata": {
    "id": "jczO1ku82OUQ"
   },
   "outputs": [],
   "source": [
    "### Segment photoscans and render scene\n",
    "camera_idx = 2 #, 30, 62\n",
    "\n",
    "# Segment person in photo from camera viewpoint\n",
    "photo_path = 'subject_%s/body/%s/image/image%s.jpg' % (subject, pose, str(camera_idx).zfill(7))\n",
    "photo, silh_photo, rgb_photo = get_pointrend_segmentation(photo_path, device=device)\n",
    "\n",
    "smpl_silh, smpl_rgb = renders(subject, pose, smpl_mesh, camera_idx)\n",
    "smplx_silh, smplx_rgb = renders(subject, pose, smplx_mesh, camera_idx)\n",
    "\n",
    "# Storing paths for images\n",
    "os.makedirs(save_path, exist_ok=True)\n",
    "photo_path = os.path.join(save_path, 'photo_%s.png' %str(camera_idx).zfill(7))\n",
    "rgb_photo_path = os.path.join(save_path, 'segm_photo_%s.png' %str(camera_idx).zfill(7))\n",
    "silh_photo_path = os.path.join(save_path, 'segm_mask_%s.png' %str(camera_idx).zfill(7))\n",
    "smpl_rgb_path = os.path.join(save_path, 'smpl_render_%s.png' %str(camera_idx).zfill(7))\n",
    "smplx_rgb_path = os.path.join(save_path, 'smplx_render_%s.png' %str(camera_idx).zfill(7))\n",
    "smpl_silh_path = os.path.join(save_path, 'smpl_mask_%s.png' %str(camera_idx).zfill(7))\n",
    "smplx_silh_path = os.path.join(save_path, 'smplx_mask_%s.png' %str(camera_idx).zfill(7))"
   ]
  },
  {
   "cell_type": "code",
   "execution_count": null,
   "metadata": {
    "id": "FQ8Z5DHP2px1"
   },
   "outputs": [],
   "source": [
    "# Target Image\n",
    "plt.figure(figsize=(16, 9))\n",
    "plt.imshow(photo.cpu())\n",
    "plt.imsave(photo_path, photo.cpu().numpy())\n",
    "plt.axis(\"off\")\n",
    "\n",
    "# RGB Photo\n",
    "plt.figure(figsize=(16, 9))\n",
    "plt.imshow(rgb_photo[0].cpu())\n",
    "plt.imsave(rgb_photo_path, rgb_photo[0].cpu().numpy())\n",
    "plt.axis(\"off\")\n",
    "\n",
    "# RGB SMPL Render\n",
    "plt.figure(figsize=(16, 9))\n",
    "plt.imshow(smpl_rgb.cpu())\n",
    "plt.imsave(smpl_rgb_path, smpl_rgb.cpu().numpy())\n",
    "plt.axis(\"off\")\n",
    "\n",
    "# RGB SMPL-X Render\n",
    "plt.figure(figsize=(16, 9))\n",
    "plt.imshow(smplx_rgb.cpu())\n",
    "plt.imsave(smplx_rgb_path, smplx_rgb.cpu().numpy())\n",
    "plt.axis(\"off\")\n",
    "\n",
    "# Mask Photo\n",
    "plt.figure(figsize=(16, 9))\n",
    "plt.imshow(silh_photo[0].cpu())\n",
    "plt.imsave(silh_photo_path, silh_photo[0].cpu().numpy())\n",
    "plt.axis(\"off\")\n",
    "\n",
    "# Mask SMPL Render\n",
    "plt.figure(figsize=(16, 9))\n",
    "plt.imshow(smpl_silh.cpu())\n",
    "plt.imsave(smpl_silh_path, smpl_silh.cpu().numpy())\n",
    "plt.axis(\"off\")\n",
    "\n",
    "# Mask SMPL-X Render\n",
    "plt.figure(figsize=(16, 9))\n",
    "plt.imshow(smplx_silh.cpu())\n",
    "plt.imsave(smplx_silh_path, smplx_silh.cpu().numpy())\n",
    "plt.axis(\"off\")"
   ]
  }
 ],
 "metadata": {
  "accelerator": "GPU",
  "colab": {
   "collapsed_sections": [
    "L8jNAoRUu9Wn",
    "SFHSINLZx8I1",
    "n7OL0MkHzBVR"
   ],
   "name": "figures.ipynb",
   "provenance": []
  },
  "kernelspec": {
   "display_name": "Python 3",
   "language": "python",
   "name": "python3"
  },
  "language_info": {
   "codemirror_mode": {
    "name": "ipython",
    "version": 3
   },
   "file_extension": ".py",
   "mimetype": "text/x-python",
   "name": "python",
   "nbconvert_exporter": "python",
   "pygments_lexer": "ipython3",
   "version": "3.9.9"
  }
 },
 "nbformat": 4,
 "nbformat_minor": 4
}
