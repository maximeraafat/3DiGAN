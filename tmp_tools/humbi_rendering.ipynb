{
 "cells": [
  {
   "cell_type": "code",
   "execution_count": null,
   "metadata": {
    "id": "oI9LH3RqDuKq"
   },
   "outputs": [],
   "source": [
    "### Mount google drive if available\n",
    "try:\n",
    "    from google.colab import drive\n",
    "    drive.mount('/content/drive')\n",
    "    drive_path = '/content/drive/MyDrive/master_thesis/'\n",
    "    in_colab = True\n",
    "except:\n",
    "    drive_path = ''\n",
    "    in_colab = False"
   ]
  },
  {
   "cell_type": "code",
   "execution_count": null,
   "metadata": {
    "id": "f7NDW1CXEGYg"
   },
   "outputs": [],
   "source": [
    "### Install all dependecies\n",
    "\n",
    "# pytorch3d\n",
    "import os\n",
    "import sys\n",
    "import torch\n",
    "\n",
    "need_pytorch3d=False\n",
    "try:\n",
    "    import pytorch3d\n",
    "except ModuleNotFoundError:\n",
    "    need_pytorch3d=True\n",
    "\n",
    "if need_pytorch3d:\n",
    "    if torch.__version__.startswith(\"1.10.\") and sys.platform.startswith(\"linux\"):\n",
    "        # We try to install PyTorch3D via a released wheel.\n",
    "        pyt_version_str=torch.__version__.split(\"+\")[0].replace(\".\", \"\")\n",
    "        version_str=\"\".join([\n",
    "            f\"py3{sys.version_info.minor}_cu\",\n",
    "            torch.version.cuda.replace(\".\",\"\"),\n",
    "            f\"_pyt{pyt_version_str}\"\n",
    "        ])\n",
    "        !pip install pytorch3d -f https://dl.fbaipublicfiles.com/pytorch3d/packaging/wheels/{version_str}/download.html\n",
    "    else:\n",
    "        # We try to install PyTorch3D from source.\n",
    "        !curl -LO https://github.com/NVIDIA/cub/archive/1.10.0.tar.gz\n",
    "        !tar xzf 1.10.0.tar.gz\n",
    "        os.environ[\"CUB_HOME\"] = os.getcwd() + \"/cub-1.10.0\"\n",
    "        !pip install 'git+https://github.com/facebookresearch/pytorch3d.git@stable'\n",
    "\n",
    "\n",
    "# smplx\n",
    "need_smplx=False\n",
    "try:\n",
    "    import smplx\n",
    "except ModuleNotFoundError:\n",
    "    need_smplx=True\n",
    "\n",
    "if need_smplx:\n",
    "    !pip install smplx\n",
    "\n",
    "\n",
    "# cleanup\n",
    "!rm -rf 1.10.0.tar.gz cub-1.10.0/"
   ]
  },
  {
   "cell_type": "markdown",
   "metadata": {
    "id": "RrKj6QsjNUAy"
   },
   "source": [
    "Please upload the `utils` directory and comment out line 7 in `__init__.py`\n"
   ]
  },
  {
   "cell_type": "code",
   "execution_count": null,
   "metadata": {
    "id": "vHGyutH-3EhD"
   },
   "outputs": [],
   "source": [
    "try:\n",
    "    __IPYTHON__\n",
    "    from tqdm.notebook import tqdm\n",
    "except NameError:\n",
    "    from tqdm import tqdm\n",
    "\n",
    "import os\n",
    "import cv2\n",
    "import torch\n",
    "import smplx\n",
    "import numpy as np\n",
    "from torchvision.io import read_image\n",
    "\n",
    "from pytorch3d.io import load_obj\n",
    "from pytorch3d.structures import Meshes, Pointclouds\n",
    "from pytorch3d.transforms import axis_angle_to_matrix\n",
    "from pytorch3d.renderer import (\n",
    "    PerspectiveCameras,\n",
    "    TexturesVertex,\n",
    "    TexturesUV,\n",
    "    Materials,\n",
    "    PointsRasterizationSettings,\n",
    "    PointsRenderer,\n",
    "    PointsRasterizer,\n",
    "    AlphaCompositor,\n",
    "    NormWeightedCompositor\n",
    ")\n",
    "\n",
    "from utils.download_humbi import download_subject, remove_subject\n",
    "from utils.smpl_to_smplx import humbi_smpl_mesh\n",
    "from utils.camera_calibration import get_camera_parameters\n",
    "from utils.renderers import get_renderers"
   ]
  },
  {
   "cell_type": "code",
   "execution_count": null,
   "metadata": {
    "id": "kVodCWpVZ-uH"
   },
   "outputs": [],
   "source": [
    "### Setup\n",
    "device = torch.device('cuda' if torch.cuda.is_available() else 'cpu')"
   ]
  },
  {
   "cell_type": "code",
   "execution_count": null,
   "metadata": {
    "id": "iBvLiR_dkjeT"
   },
   "outputs": [],
   "source": [
    "### Load SMPLX mesh from neural rendering output\n",
    "def load_smplx_mesh(smplx_npz_path, smplx_model_path, smplx_uv_path, smplx_texture_path):\n",
    "    # load smplx parameters stored in npz file\n",
    "    global_orient = torch.Tensor(np.load(smplx_npz_path)['global_orient']).to(device)\n",
    "    transl = torch.Tensor(np.load(smplx_npz_path)['transl']).to(device)\n",
    "    body_pose = torch.Tensor(np.load(smplx_npz_path)['body_pose']).to(device)\n",
    "    left_hand_pose = torch.Tensor(np.load(smplx_npz_path)['left_hand_pose']).to(device)\n",
    "    right_hand_pose = torch.Tensor(np.load(smplx_npz_path)['right_hand_pose']).to(device)\n",
    "    jaw_pose = torch.Tensor(np.load(smplx_npz_path)['jaw_pose']).to(device)\n",
    "    expression = torch.Tensor(np.load(smplx_npz_path)['expression']).to(device)\n",
    "    betas = torch.Tensor(np.load(smplx_npz_path)['betas']).to(device)\n",
    "    scale = torch.Tensor(np.load(smplx_npz_path)['scale']).to(device)\n",
    "    verts_disps = torch.Tensor(np.load(smplx_npz_path)['verts_disps']).to(device)\n",
    "\n",
    "    # construct smplx model\n",
    "    smplx_model = smplx.SMPLXLayer(smplx_model_path, gender='neutral').to(device)\n",
    "    smplx_faces = smplx_model.faces_tensor.unsqueeze(0).to(device)\n",
    "    smplx_verts = smplx_model.forward(global_orient=axis_angle_to_matrix(global_orient),\n",
    "                                     body_pose=axis_angle_to_matrix(body_pose),\n",
    "                                     left_hand_pose=axis_angle_to_matrix(left_hand_pose), right_hand_pose=axis_angle_to_matrix(right_hand_pose),\n",
    "                                     jaw_pose=axis_angle_to_matrix(jaw_pose), expression=expression, betas=betas)['vertices'].to(device)\n",
    "\n",
    "    # load smplx uv coordinates\n",
    "    obj_mesh = load_obj(smplx_uv_path, load_textures=False)\n",
    "    faces_uvs = obj_mesh[1].textures_idx.unsqueeze(0).to(device)\n",
    "    verts_uvs = obj_mesh[2].verts_uvs.unsqueeze(0).to(device)\n",
    "\n",
    "    # load smplx texture\n",
    "    texture = torch.moveaxis(read_image(smplx_texture_path).unsqueeze(0), 1, 3).to(device).float() / 255.0\n",
    "    texture_uv = TexturesUV(maps=texture, faces_uvs=faces_uvs, verts_uvs=verts_uvs)\n",
    "\n",
    "    # smplx mesh\n",
    "    smplx_mesh = Meshes(smplx_verts * scale + transl, smplx_faces, texture_uv)\n",
    "    smplx_verts = (smplx_verts * scale) + (smplx_mesh.verts_normals_packed() * verts_disps).unsqueeze(0)\n",
    "    smplx_mesh = Meshes(smplx_verts + transl, smplx_faces, texture_uv)\n",
    "\n",
    "    return smplx_mesh"
   ]
  },
  {
   "cell_type": "code",
   "execution_count": null,
   "metadata": {
    "id": "5A--jzBtduYK"
   },
   "outputs": [],
   "source": [
    "### Get pointcloud renderer\n",
    "def get_pcl_renderer(cameras, image_size=(360, 640)):\n",
    "    raster_settings = PointsRasterizationSettings(\n",
    "        image_size=image_size, \n",
    "        radius=0.003,\n",
    "        points_per_pixel=10\n",
    "    )\n",
    "\n",
    "    rasterizer = PointsRasterizer(cameras=cameras, raster_settings=raster_settings)\n",
    "\n",
    "    pcl_renderer = PointsRenderer(\n",
    "        rasterizer=rasterizer,\n",
    "        compositor=AlphaCompositor()\n",
    "    )\n",
    "\n",
    "    return pcl_renderer"
   ]
  },
  {
   "cell_type": "code",
   "execution_count": null,
   "metadata": {
    "id": "CJkUx01jhSea"
   },
   "outputs": [],
   "source": [
    "SUBJECT = 1\n",
    "\n",
    "# body\n",
    "!wget https://humbi-dataset.s3.amazonaws.com/body_subject/subject_$'{SUBJECT}'.zip\n",
    "!unzip subject_$'{SUBJECT}'.zip\n",
    "!rm subject_$'{SUBJECT}'.zip\n",
    "\n",
    "# texture\n",
    "!wget https://humbi-dataset.s3.amazonaws.com/body_texture_subject/subject_$'{SUBJECT}'.zip\n",
    "!unzip subject_$'{SUBJECT}'.zip\n",
    "!rm subject_$'{SUBJECT}'.zip\n",
    "\n",
    "# point cloud\n",
    "if SUBJECT == 1:\n",
    "    !wget 'https://humbi-dataset.s3.amazonaws.com/pointcloud/sample.zip'\n",
    "    !unzip sample.zip\n",
    "    !rm sample.zip"
   ]
  },
  {
   "cell_type": "code",
   "execution_count": null,
   "metadata": {
    "id": "CM1Yd5XGcBoo"
   },
   "outputs": [],
   "source": [
    "### Render subject in given pose and specified camera view\n",
    "POSE = '00000025'\n",
    "CAMERA_IDX = 2\n",
    "\n",
    "pcl_path = 'subject_%d/body/%s/reconstruction/surface_reconstruction.txt' % (SUBJECT, POSE)\n",
    "\n",
    "smpl_obj_path = drive_path + 'smplx/smpl_uv.obj'\n",
    "smpl_texture_path = 'subject_%d/body/%s/appearance/median_map.png' % (SUBJECT, POSE)\n",
    "\n",
    "smplx_model_path = drive_path + 'smplx'\n",
    "smplx_obj_path = drive_path + 'smplx/smplx_uv.obj'\n",
    "smplx_texture_path = drive_path + 'humbi_output/humbi_smplx_rgb/rgb_texture_%d.png' % SUBJECT\n",
    "smplx_npz_path = drive_path + 'humbi_output/humbi_smplx_npz/output_subject_%d.npz' % SUBJECT\n",
    "\n",
    "R, T, f, p = get_camera_parameters(SUBJECT, CAMERA_IDX)\n",
    "\n",
    "# construct camera\n",
    "cameras = PerspectiveCameras(focal_length=-f, principal_point=p, R=R, T=T, in_ndc=False, image_size=((1080, 1920),), device=device)\n",
    "\n",
    "# pointcloud\n",
    "pcl_data = torch.Tensor( np.loadtxt(pcl_path)).unsqueeze(0).to(device)\n",
    "pcl_data[0,:,-1] = 255 # set all alpha values to full opacity\n",
    "pointcloud = Pointclouds(points=pcl_data[:,:,:3], features=pcl_data[:,:,3:]/255)\n",
    "\n",
    "# meshes\n",
    "smpl_default_mesh = humbi_smpl_mesh(SUBJECT, POSE)\n",
    "\n",
    "obj_mesh = load_obj(smpl_obj_path, load_textures=False)\n",
    "faces_uvs = obj_mesh[1].textures_idx.unsqueeze(0).to(device)\n",
    "verts_uvs = obj_mesh[2].verts_uvs.unsqueeze(0).to(device)\n",
    "texture = torch.moveaxis(read_image(smpl_texture_path).unsqueeze(0), 1, 3).to(device).float() / 255.0\n",
    "texture_uv = TexturesUV(maps=texture, faces_uvs=faces_uvs, verts_uvs=verts_uvs)\n",
    "\n",
    "blank_verts_colors = torch.ones_like(smpl_default_mesh.verts_padded()).to(device)\n",
    "blank_texture = TexturesVertex(verts_features=blank_verts_colors)\n",
    "\n",
    "smpl_default_mesh = Meshes(smpl_default_mesh.verts_padded(), smpl_default_mesh.faces_padded(), blank_texture)\n",
    "smpl_textured_mesh = Meshes(smpl_default_mesh.verts_padded(), smpl_default_mesh.faces_padded(), texture_uv)\n",
    "\n",
    "smplx_mesh = load_smplx_mesh(smplx_npz_path, smplx_model_path, smplx_obj_path, smplx_texture_path)\n",
    "\n",
    "# render meshes from camera viewpoint\n",
    "_, phong_renderer = get_renderers(cameras, (1080, 1920), device=device)\n",
    "_, phong_renderer_pt_light = get_renderers(cameras, (1080, 1920), pointlight=True, device=device)\n",
    "pcl_renderer = get_pcl_renderer(cameras, (1080, 1920))\n",
    "\n",
    "materials = Materials(device=device, specular_color=[[0.0, 0.0, 0.0]], shininess=0.0)\n",
    "smpl_default_render = phong_renderer_pt_light(smpl_default_mesh, materials=materials)[0].cpu().numpy()\n",
    "smpl_textured_render = phong_renderer(smpl_textured_mesh)[0].cpu().numpy()\n",
    "smplx_render = phong_renderer(smplx_mesh)[0].cpu().numpy()\n",
    "pcl_render = pcl_renderer(pointcloud, device=device)[0].cpu().numpy()\n",
    "\n",
    "smpl_default_render = (smpl_default_render * 255).astype(np.uint8)\n",
    "smpl_textured_render = (smpl_textured_render * 255).astype(np.uint8)\n",
    "smplx_render = (smplx_render * 255).astype(np.uint8)\n",
    "pcl_render = (pcl_render * 255).astype(np.uint8)\n",
    "\n",
    "# store images\n",
    "cam_idx_str = '%07d' % CAMERA_IDX\n",
    "savefile_smpl_default = 'smpl_default_%s.png' % cam_idx_str\n",
    "savefile_smpl_textured = 'smpl_textured_%s.png' % cam_idx_str\n",
    "savefile_smplx_textured = 'smplx_textured_%s.png' % cam_idx_str\n",
    "savefile_pointcloud = 'pointcloud_%s.png' % cam_idx_str\n",
    "\n",
    "success = cv2.imwrite(savefile_smpl_default, cv2.cvtColor(smpl_default_render, cv2.COLOR_BGRA2RGBA))\n",
    "success = cv2.imwrite(savefile_smpl_textured, cv2.cvtColor(smpl_textured_render, cv2.COLOR_BGRA2RGBA))\n",
    "success = cv2.imwrite(savefile_smplx_textured, cv2.cvtColor(smplx_render, cv2.COLOR_BGRA2RGBA))\n",
    "success = cv2.imwrite(savefile_pointcloud, cv2.cvtColor(pcl_render, cv2.COLOR_BGRA2RGBA))"
   ]
  }
 ],
 "metadata": {
  "accelerator": "GPU",
  "colab": {
   "collapsed_sections": [],
   "name": "humbi_rendering.ipynb",
   "provenance": []
  },
  "kernelspec": {
   "display_name": "Python 3",
   "language": "python",
   "name": "python3"
  },
  "language_info": {
   "codemirror_mode": {
    "name": "ipython",
    "version": 3
   },
   "file_extension": ".py",
   "mimetype": "text/x-python",
   "name": "python",
   "nbconvert_exporter": "python",
   "pygments_lexer": "ipython3",
   "version": "3.9.9"
  }
 },
 "nbformat": 4,
 "nbformat_minor": 4
}
