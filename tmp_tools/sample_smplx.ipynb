{
 "cells": [
  {
   "cell_type": "markdown",
   "metadata": {
    "id": "QpyUhuP1yEcn"
   },
   "source": [
    "# Notebook for sampling SMPL-X poses and shapes\n",
    "\n",
    "This notebook is meant to be run on Google colab, otherwise paths to subject data and modules might need adjustments"
   ]
  },
  {
   "cell_type": "code",
   "execution_count": null,
   "metadata": {
    "id": "L6dpKGnpyDmk"
   },
   "outputs": [],
   "source": [
    "### Mount google drive if available\n",
    "try:\n",
    "    from google.colab import drive\n",
    "    drive.mount('/content/drive')\n",
    "    drive_path = '/content/drive/MyDrive/term_paper/'\n",
    "    in_colab = True\n",
    "except:\n",
    "    drive_path = ''\n",
    "    in_colab = False"
   ]
  },
  {
   "cell_type": "code",
   "execution_count": null,
   "metadata": {
    "id": "0KkJWYVfyU_r"
   },
   "outputs": [],
   "source": [
    "### Install all dependecies\n",
    "\n",
    "# pytorch3d\n",
    "import os\n",
    "import sys\n",
    "import torch\n",
    "\n",
    "need_pytorch3d=False\n",
    "try:\n",
    "    import pytorch3d\n",
    "except ModuleNotFoundError:\n",
    "    need_pytorch3d=True\n",
    "\n",
    "if need_pytorch3d:\n",
    "    if torch.__version__.startswith(\"1.10.\") and sys.platform.startswith(\"linux\"):\n",
    "        # We try to install PyTorch3D via a released wheel.\n",
    "        pyt_version_str=torch.__version__.split(\"+\")[0].replace(\".\", \"\")\n",
    "        version_str=\"\".join([\n",
    "            f\"py3{sys.version_info.minor}_cu\",\n",
    "            torch.version.cuda.replace(\".\",\"\"),\n",
    "            f\"_pyt{pyt_version_str}\"\n",
    "        ])\n",
    "        !pip install pytorch3d -f https://dl.fbaipublicfiles.com/pytorch3d/packaging/wheels/{version_str}/download.html\n",
    "    else:\n",
    "        # We try to install PyTorch3D from source.\n",
    "        !curl -LO https://github.com/NVIDIA/cub/archive/1.10.0.tar.gz\n",
    "        !tar xzf 1.10.0.tar.gz\n",
    "        os.environ[\"CUB_HOME\"] = os.getcwd() + \"/cub-1.10.0\"\n",
    "        !pip install 'git+https://github.com/facebookresearch/pytorch3d.git@stable'\n",
    "\n",
    "\n",
    "# smplx\n",
    "need_smplx=False\n",
    "try:\n",
    "    import smplx\n",
    "except ModuleNotFoundError:\n",
    "    need_smplx=True\n",
    "\n",
    "if need_smplx:\n",
    "    !pip install smplx\n",
    "    !git clone https://github.com/vchoutas/smplx\n",
    "    %cd smplx\n",
    "    !python setup.py install\n",
    "    %cd ..\n",
    "\n",
    "\n",
    "# cleanup\n",
    "!rm -rf 1.10.0.tar.gz cub-1.10.0/"
   ]
  },
  {
   "cell_type": "code",
   "execution_count": null,
   "metadata": {
    "id": "DgK0LuNfzs3H"
   },
   "outputs": [],
   "source": [
    "### Download data if not done yet\n",
    "\n",
    "import os\n",
    "import zipfile\n",
    "import urllib.request as request\n",
    "\n",
    "attributes = ['body']\n",
    "\n",
    "subjects = [1, 2, 3]\n",
    "\n",
    "for subject in subjects:\n",
    "    if not os.path.exists('subject_%d' % subject):\n",
    "        for attr in attributes:\n",
    "            url = os.path.join('https://humbi-dataset.s3.amazonaws.com', attr + '_subject', 'subject_%d.zip' % subject)\n",
    "            path = '%s_subject_%d.zip' % (attr, subject)\n",
    "            request.urlretrieve(url, path)\n",
    "            downloaded_zip = zipfile.ZipFile(path)\n",
    "            downloaded_zip.extractall() # !unzip downloaded_zip\n",
    "            os.remove(path)"
   ]
  },
  {
   "cell_type": "code",
   "execution_count": null,
   "metadata": {
    "id": "TLbfYnrKzqPh"
   },
   "outputs": [],
   "source": [
    "import smplx\n",
    "import random\n",
    "\n",
    "from pytorch3d.io import save_obj\n",
    "from pytorch3d.structures import Meshes\n",
    "from pytorch3d.transforms import axis_angle_to_matrix\n",
    "\n",
    "import sys\n",
    "sys.path.append('utils')\n",
    "from utils.smpl_to_smplx import extract_smpl_param\n",
    "from utils.plot_structures import plot_structure"
   ]
  },
  {
   "cell_type": "code",
   "execution_count": null,
   "metadata": {
    "id": "qR8xaq7Ozojj"
   },
   "outputs": [],
   "source": [
    "### Setup\n",
    "device = torch.device('cuda' if torch.cuda.is_available() else 'cpu')"
   ]
  },
  {
   "cell_type": "code",
   "execution_count": null,
   "metadata": {
    "id": "uQ4liQX-0HmX"
   },
   "outputs": [],
   "source": [
    "### Sampling functions\n",
    "def sample_pose(body_poses_list):\n",
    "    body_pose = random.choice(body_poses_smplx)\n",
    "    return body_pose\n",
    "\n",
    "def sample_shape(bedas_std=torch.ones([10])):\n",
    "    betas_mean = torch.zeros([10])\n",
    "    betas = torch.normal(betas_mean, bedas_std).unsqueeze(0)\n",
    "    return betas"
   ]
  },
  {
   "cell_type": "code",
   "execution_count": null,
   "metadata": {
    "id": "Qjj4ZgfA0AFS"
   },
   "outputs": [],
   "source": [
    "### Get all poses from downloaded subjects\n",
    "smplx_model_path = drive_path + 'smplx'\n",
    "smplx_model = smplx.SMPLXLayer(smplx_model_path, gender='neutral')\n",
    "\n",
    "save_path = drive_path + 'tmp_files/figures'\n",
    "\n",
    "poses = []\n",
    "body_poses_smplx = []\n",
    "\n",
    "for subject in subjects:\n",
    "    poses_path = 'subject_%d/body/' % subject\n",
    "    for pose in sorted(os.listdir(poses_path)):\n",
    "        pose_path = os.path.join(poses_path, pose)\n",
    "        if os.path.isdir(pose_path):\n",
    "            poses.append(pose)\n",
    "\n",
    "for pose in poses:\n",
    "    body_pose_smplx = extract_smpl_param(subject, pose)[-1]\n",
    "    body_poses_smplx.append(body_pose_smplx)\n",
    "\n",
    "body_pose = body_poses_smplx[0] # set to first pose\n",
    "betas = torch.zeros([10]) # set to mean shape"
   ]
  },
  {
   "cell_type": "code",
   "execution_count": null,
   "metadata": {
    "id": "Xe4_5HYBzak9"
   },
   "outputs": [],
   "source": [
    "### Sample and plot\n",
    "body_pose = sample_pose(body_poses_smplx) # comment if you want to keep the same pose\n",
    "betas = sample_shape() # comment if you want to keep the same shape\n",
    "\n",
    "smplx_faces = torch.Tensor(smplx_model.faces.astype('int')).type(torch.int32).unsqueeze(0)\n",
    "smplx_verts = smplx_model.forward(body_pose=axis_angle_to_matrix(body_pose), betas=betas)['vertices']\n",
    "\n",
    "smplx_mesh = Meshes(smplx_verts, smplx_faces)\n",
    "\n",
    "plot_structure([smplx_mesh])"
   ]
  },
  {
   "cell_type": "code",
   "execution_count": null,
   "metadata": {
    "id": "z0oB1e2c4wj9"
   },
   "outputs": [],
   "source": [
    "### Store current SMPL-X pose and shape in mesh as .obj file\n",
    "os.makedirs(save_path, exist_ok=True)\n",
    "smplx_filename = os.path.join(save_path, 'sampled_smplx.obj')\n",
    "\n",
    "save_obj(smplx_filename, verts=smplx_mesh.verts_packed(), faces=smplx_mesh.faces_packed())"
   ]
  }
 ],
 "metadata": {
  "colab": {
   "collapsed_sections": [],
   "name": "sample_smplx.ipynb",
   "provenance": []
  },
  "kernelspec": {
   "display_name": "Python 3",
   "language": "python",
   "name": "python3"
  },
  "language_info": {
   "codemirror_mode": {
    "name": "ipython",
    "version": 3
   },
   "file_extension": ".py",
   "mimetype": "text/x-python",
   "name": "python",
   "nbconvert_exporter": "python",
   "pygments_lexer": "ipython3",
   "version": "3.9.9"
  }
 },
 "nbformat": 4,
 "nbformat_minor": 4
}
