{
 "cells": [
  {
   "cell_type": "code",
   "execution_count": null,
   "metadata": {
    "id": "iYznZT_WehuQ"
   },
   "outputs": [],
   "source": [
    "### Mount google drive if available\n",
    "try:\n",
    "    from google.colab import drive\n",
    "    drive.mount('/content/drive')\n",
    "    drive_path = '/content/drive/MyDrive/term_paper/'\n",
    "    in_colab = True\n",
    "except:\n",
    "    drive_path = ''\n",
    "    in_colab = False"
   ]
  },
  {
   "cell_type": "code",
   "execution_count": null,
   "metadata": {
    "id": "rq1dDUk42TdV"
   },
   "outputs": [],
   "source": [
    "### Install all dependecies\n",
    "!git clone https://github.com/saic-vul/style-people.git\n",
    "!pip install git+https://github.com/rmbashirov/minimal_pytorch_rasterizer\n",
    "!pip install -r style-people/requirements.txt"
   ]
  },
  {
   "cell_type": "code",
   "execution_count": null,
   "metadata": {
    "id": "YYS9vp1BjRp0"
   },
   "outputs": [],
   "source": [
    "### Replace string with another one in a file\n",
    "def replace_string(filename:str, to_replace:str, replacement:str):\n",
    "    with open(filename, 'r') as f:\n",
    "        filedata = f.read()\n",
    "\n",
    "    filedata = filedata.replace(to_replace, replacement)\n",
    "\n",
    "    with open(filename, 'w') as f:\n",
    "        f.write(filedata)\n",
    "\n",
    "    return"
   ]
  },
  {
   "cell_type": "code",
   "execution_count": null,
   "metadata": {
    "id": "Cvxnfvxm0x16"
   },
   "outputs": [],
   "source": [
    "### Comment some lines in a file\n",
    "from typing import List\n",
    "\n",
    "def comment_lines(filename:str, replace_lines:List[int]):\n",
    "    with open(filename, 'r') as f:\n",
    "        lines = f.readlines()\n",
    "\n",
    "    for n, line in enumerate(lines):\n",
    "        for replace in replace_lines:\n",
    "            if(n == replace - 1):\n",
    "                commented_line = '#' + line\n",
    "                lines[n] = commented_line\n",
    "\n",
    "    with open(filename, 'w') as f:\n",
    "        f.write(''.join(lines))\n",
    "\n",
    "    return"
   ]
  },
  {
   "cell_type": "code",
   "execution_count": null,
   "metadata": {
    "id": "HA1DWi94k6Vp"
   },
   "outputs": [],
   "source": [
    "### Replace 'data/' with 'stylepeople_data/' in all files : stylepeople_data/ = https://drive.google.com/drive/folders/1-Rzn0fR4Rq2VKS7EUg8hCdJwFe4niNJr\n",
    "datapath1 = drive_path + 'stylepeople_data/'\n",
    "datapath2 = drive_path + 'stylepeople_data'\n",
    "\n",
    "file_list = ['inference_module/inferer.py', 'render_person.py', 'sample_new_textures.py', 'utils/demo.py', 'utils/uv_renderer.py'] # 'infer_texture.py'\n",
    "\n",
    "for f in file_list:\n",
    "    filename = 'style-people/' + f\n",
    "    replace_string(filename, to_replace='data/', replacement=datapath1)\n",
    "\n",
    "replace_string(filename='style-people/inference_module/config.yaml', to_replace='data', replacement=datapath2)\n",
    "\n",
    "replace_string(filename='style-people/utils/smplx_models.py', to_replace='.pkl', replacement='.npz')\n",
    "\n",
    "\n",
    "### In style-people/sample_new_textures.py, comment lines 15, 16, 17 and 19\n",
    "comment_lines(filename='style-people/sample_new_textures.py', replace_lines=[15, 16, 17, 19])"
   ]
  },
  {
   "cell_type": "code",
   "execution_count": null,
   "metadata": {
    "id": "U9NjKEyq4ifK"
   },
   "outputs": [],
   "source": [
    "### Generate new samples with StylePeople\n",
    "smplx_model_dir = drive_path + 'smplx'\n",
    "to_save_dir = drive_path + 'tmp_files/stylepeople/'\n",
    "run_name = 'stylepeople_test_run'\n",
    "\n",
    "%run style-people/sample_new_textures.py --textures_root {to_save_dir} --smplx_model_dir {smplx_model_dir} --n_samples=10 --texture_batch_name {run_name}"
   ]
  }
 ],
 "metadata": {
  "accelerator": "GPU",
  "colab": {
   "collapsed_sections": [],
   "name": "stylepeople.ipynb",
   "provenance": []
  },
  "kernelspec": {
   "display_name": "Python 3",
   "language": "python",
   "name": "python3"
  },
  "language_info": {
   "codemirror_mode": {
    "name": "ipython",
    "version": 3
   },
   "file_extension": ".py",
   "mimetype": "text/x-python",
   "name": "python",
   "nbconvert_exporter": "python",
   "pygments_lexer": "ipython3",
   "version": "3.9.9"
  }
 },
 "nbformat": 4,
 "nbformat_minor": 4
}
