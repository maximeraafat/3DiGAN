{
 "cells": [
  {
   "cell_type": "code",
   "execution_count": null,
   "metadata": {
    "id": "M4j60Jqr59jr"
   },
   "outputs": [],
   "source": [
    "### Mount google drive if available\n",
    "try:\n",
    "    from google.colab import drive\n",
    "    drive.mount('/content/drive')\n",
    "    drive_path = '/content/drive/MyDrive/term_paper/'\n",
    "    in_colab = True\n",
    "except:\n",
    "    drive_path = ''\n",
    "    in_colab = False"
   ]
  },
  {
   "cell_type": "code",
   "execution_count": null,
   "metadata": {
    "id": "C5bZjZT95XOu"
   },
   "outputs": [],
   "source": [
    "### Import the utils files into the folder, as well as the files main.py and neural_rendering.py\n",
    "# Later on, just git clone the repo and run repo_name/main.py\n",
    "!mkdir utils\n",
    "!mkdir lightweight_gan"
   ]
  },
  {
   "cell_type": "markdown",
   "metadata": {
    "id": "wNCONgRTAlU5"
   },
   "source": [
    "## Humbi human body reconstruction"
   ]
  },
  {
   "cell_type": "code",
   "execution_count": null,
   "metadata": {
    "id": "0IGEJxJc5O4M"
   },
   "outputs": [],
   "source": [
    "### Install all dependecies\n",
    "\n",
    "# pytorch3d\n",
    "import os\n",
    "import sys\n",
    "import torch\n",
    "\n",
    "need_pytorch3d=False\n",
    "try:\n",
    "    import pytorch3d\n",
    "except ModuleNotFoundError:\n",
    "    need_pytorch3d=True\n",
    "\n",
    "if need_pytorch3d:\n",
    "    if torch.__version__.startswith(\"1.10.\") and sys.platform.startswith(\"linux\"):\n",
    "        # We try to install PyTorch3D via a released wheel.\n",
    "        pyt_version_str=torch.__version__.split(\"+\")[0].replace(\".\", \"\")\n",
    "        version_str=\"\".join([\n",
    "            f\"py3{sys.version_info.minor}_cu\",\n",
    "            torch.version.cuda.replace(\".\",\"\"),\n",
    "            f\"_pyt{pyt_version_str}\"\n",
    "        ])\n",
    "        !pip install pytorch3d -f https://dl.fbaipublicfiles.com/pytorch3d/packaging/wheels/{version_str}/download.html\n",
    "    else:\n",
    "        # We try to install PyTorch3D from source.\n",
    "        !curl -LO https://github.com/NVIDIA/cub/archive/1.10.0.tar.gz\n",
    "        !tar xzf 1.10.0.tar.gz\n",
    "        os.environ[\"CUB_HOME\"] = os.getcwd() + \"/cub-1.10.0\"\n",
    "        !pip install 'git+https://github.com/facebookresearch/pytorch3d.git@stable'\n",
    "\n",
    "\n",
    "# smplx\n",
    "need_smplx=False\n",
    "try:\n",
    "    import smplx\n",
    "except ModuleNotFoundError:\n",
    "    need_smplx=True\n",
    "\n",
    "if need_smplx:\n",
    "    !pip install smplx\n",
    "    !git clone https://github.com/vchoutas/smplx\n",
    "    %cd smplx\n",
    "    !python setup.py install\n",
    "    %cd ..\n",
    "\n",
    "\n",
    "# detectron2\n",
    "need_detectron=False\n",
    "try:\n",
    "    import detectron2\n",
    "except ModuleNotFoundError:\n",
    "    need_detectron=True   \n",
    "\n",
    "if need_detectron:\n",
    "    !git clone https://github.com/facebookresearch/detectron2.git detectron2_repo\n",
    "    !python -m pip install 'git+https://github.com/facebookresearch/detectron2.git'\n",
    "\n",
    "\n",
    "# cleanup\n",
    "!rm -rf 1.10.0.tar.gz cub-1.10.0/"
   ]
  },
  {
   "cell_type": "code",
   "execution_count": null,
   "metadata": {
    "id": "b9131m_M7ql5"
   },
   "outputs": [],
   "source": [
    "### CAREFUL: Using the --subdivision flag disables saving displacement map as a texture\n",
    "if in_colab:\n",
    "    %run main.py --subjects '[1, 70, 122]' --gdrive {drive_path} --saveobj --smoothing\n",
    "else:\n",
    "    %run main.py --subjects '[1, 70, 122]' --saveobj --smoothing"
   ]
  },
  {
   "cell_type": "code",
   "execution_count": null,
   "metadata": {
    "id": "IKFPKMTDBJ_M"
   },
   "outputs": [],
   "source": [
    "### Reconstructed displacement texture after inverse normalization \n",
    "import numpy as np\n",
    "import matplotlib.pyplot as plt\n",
    "from utils.normalize_disps import denormalize_disp\n",
    "\n",
    "subject = 1\n",
    "img_path = drive_path + 'humbi_output/humbi_smplx_geom/disp_texture_%d.png' % subject\n",
    "obj_path = drive_path + 'smplx/smplx_uv.obj'\n",
    "\n",
    "normalization = np.load(drive_path + 'humbi_output/humbi_smplx_npz/normalization.npz')\n",
    "global_min = normalization['global_min'].item()\n",
    "global_max = normalization['global_max'].item()\n",
    "\n",
    "image, geometry = denormalize_disp(img_path, global_min, global_max, obj_path)\n",
    "\n",
    "plt.figure(figsize=(10, 10))\n",
    "plt.imshow(image + 0.5)\n",
    "plt.axis(\"off\")"
   ]
  },
  {
   "cell_type": "markdown",
   "metadata": {
    "id": "bptfcsloAw8G"
   },
   "source": [
    "## Generative human body modelling"
   ]
  },
  {
   "cell_type": "code",
   "execution_count": null,
   "metadata": {
    "id": "b--0H22TsZfM"
   },
   "outputs": [],
   "source": [
    "### Lightweight GAN dependencies (see in setup.py)\n",
    "!pip install fire\n",
    "!pip install retry\n",
    "!pip install kornia==0.5.4\n",
    "!pip install einops\n",
    "!pip install adabelief_pytorch"
   ]
  },
  {
   "cell_type": "code",
   "execution_count": null,
   "metadata": {
    "id": "-xjCZaRm3Oqq"
   },
   "outputs": [],
   "source": [
    "training_imgs = drive_path + 'humbi_output/humbi_smplx_rgb/'\n",
    "training_disps = drive_path + 'humbi_output/humbi_smplx_geom/'\n",
    "\n",
    "models_dir = drive_path  + 'humbi_output/humbi_gan/model/'\n",
    "results_dir = drive_path + 'humbi_output/humbi_gan/results/'\n",
    "\n",
    "run_name_rgb = 'humbi_gan_rgb'\n",
    "run_name_rgbxyz = 'humbi_gan_rgbxyz'"
   ]
  },
  {
   "cell_type": "code",
   "execution_count": null,
   "metadata": {
    "id": "2v3H0Kb1B7XJ"
   },
   "outputs": [],
   "source": [
    "### RGB only training\n",
    "%run lightweight_gan/cli.py --data {training_imgs} \\\n",
    "                            --name {run_name_rgb} \\\n",
    "                            --models-dir {models_dir} \\\n",
    "                            --results-dir {results_dir} \\\n",
    "                            --save-every 1000 \\\n",
    "                            --batch-size 8 \\\n",
    "                            --gradient-accumulate-every 4 \\\n",
    "                            --num-train-steps 200000 \\\n",
    "                            --image-size 1024"
   ]
  },
  {
   "cell_type": "code",
   "execution_count": null,
   "metadata": {
    "id": "44aiMdEi3E9z"
   },
   "outputs": [],
   "source": [
    "### RGB + disps training\n",
    "%run lightweight_gan/cli.py --data {training_imgs} \\\n",
    "                            --disp_data {training_disps} \\\n",
    "                            --rgbxyz \\\n",
    "                            --name {run_name_rgbxyz} \\\n",
    "                            --models-dir {models_dir} \\\n",
    "                            --results-dir {results_dir} \\\n",
    "                            --save-every 1000 \\\n",
    "                            --batch-size 8 \\\n",
    "                            --gradient-accumulate-every 4 \\\n",
    "                            --num-train-steps 200000 \\\n",
    "                            --image-size 1024"
   ]
  },
  {
   "cell_type": "code",
   "execution_count": null,
   "metadata": {
    "id": "EfwAcG5KWhr_"
   },
   "outputs": [],
   "source": [
    "### Generating from RGB\n",
    "%run lightweight_gan/cli.py --generate \\\n",
    "                            --name {run_name_rgb} \\\n",
    "                            --models-dir {models_dir} \\\n",
    "                            --results-dir {results_dir} \\\n",
    "                            --generate-types default \\\n",
    "                            --num-image-tiles 16 \\\n",
    "                            # --load-from {checkpoint num}"
   ]
  },
  {
   "cell_type": "code",
   "execution_count": null,
   "metadata": {
    "id": "qoDTfhhQXKiE"
   },
   "outputs": [],
   "source": [
    "### Generating from RGB + disps\n",
    "%run lightweight_gan/cli.py --rgbxyz \\\n",
    "                            --generate \\\n",
    "                            --name {run_name_rgbxyz} \\\n",
    "                            --models-dir {models_dir} \\\n",
    "                            --results-dir {results_dir} \\\n",
    "                            --generate-types default \\\n",
    "                            --num-image-tiles 16 \\\n",
    "                            # --load-from {checkpoint num}"
   ]
  },
  {
   "cell_type": "code",
   "execution_count": null,
   "metadata": {
    "id": "eRZF0XMfYNMt"
   },
   "outputs": [],
   "source": [
    "### Show progress\n",
    "%run lightweight_gan/cli.py --show-progress \\\n",
    "                            --name {run_name_rgb} \\\n",
    "                            --models-dir {models_dir} \\\n",
    "                            --results-dir {results_dir} \\\n",
    "                            --generate-types default \\\n",
    "                            --num-image-tiles 1\n",
    "\n",
    "'''\n",
    "### Progress to video\n",
    "progress_imgs = drive_path + results_dir + run_name_rgb + '-progress/*.jpg'\n",
    "progress_video = drive_path + results_dir + run_name_rgb + '.mp4'\n",
    "\n",
    "!ffmpeg -framerate 10 -pattern_type glob -i '{progress_imgs}' {progress_video}\n",
    "print('video created and saved under', progress_video)\n",
    "'''"
   ]
  }
 ],
 "metadata": {
  "accelerator": "GPU",
  "colab": {
   "collapsed_sections": [
    "wNCONgRTAlU5"
   ],
   "name": "main.ipynb",
   "provenance": []
  },
  "kernelspec": {
   "display_name": "Python 3",
   "language": "python",
   "name": "python3"
  },
  "language_info": {
   "codemirror_mode": {
    "name": "ipython",
    "version": 3
   },
   "file_extension": ".py",
   "mimetype": "text/x-python",
   "name": "python",
   "nbconvert_exporter": "python",
   "pygments_lexer": "ipython3",
   "version": "3.9.9"
  }
 },
 "nbformat": 4,
 "nbformat_minor": 4
}
