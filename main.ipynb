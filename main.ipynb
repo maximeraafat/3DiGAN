{
 "cells": [
  {
   "cell_type": "markdown",
   "metadata": {},
   "source": [
    "# Download Data"
   ]
  },
  {
   "cell_type": "markdown",
   "metadata": {},
   "source": [
    "Future steps : enable pulling from google colab right away (see http://colab.research.google.com/github for help)\n",
    "\n",
    "For now, everything on Google drive is uploaded manually"
   ]
  },
  {
   "cell_type": "code",
   "execution_count": null,
   "metadata": {},
   "outputs": [],
   "source": [
    "# if you want to download the data to google drive\n",
    "from google.colab import drive\n",
    "drive.mount('/content/drive')\n",
    "\n",
    "gdrive_path = '/content/drive/MyDrive'"
   ]
  },
  {
   "cell_type": "code",
   "execution_count": null,
   "metadata": {},
   "outputs": [],
   "source": [
    "%run download_humbi # --gdrive {gdrive_path}"
   ]
  },
  {
   "cell_type": "markdown",
   "metadata": {},
   "source": [
    "# Training and generating with Lighweight GAN"
   ]
  },
  {
   "cell_type": "code",
   "execution_count": null,
   "metadata": {},
   "outputs": [],
   "source": [
    "### See https://github.com/lucidrains/lightweight-gan\n",
    "!pip3 install lightweight-gan"
   ]
  },
  {
   "cell_type": "code",
   "execution_count": null,
   "metadata": {},
   "outputs": [],
   "source": [
    "training_data = '/humbi_maps/humbi_body_texture/body_texture_medians/'\n",
    "models_dir = '/generated_maps/model/'\n",
    "results_dir = '/generated_maps/generated_images/'\n",
    "\n",
    "run_name = 'sample_run_256'"
   ]
  },
  {
   "cell_type": "code",
   "execution_count": null,
   "metadata": {},
   "outputs": [],
   "source": [
    "### Training\n",
    "!lightweight_gan  --data {training_data} \\\n",
    "                  --name {run_name} \\\n",
    "                  --models-dir {models_dir} \\\n",
    "                  --results-dir {results_dir} \\\n",
    "                  --save-every 1000 \\\n",
    "                  --batch-size 8 \\\n",
    "                  --gradient-accumulate-every 4 \\\n",
    "                  --num-train-steps 200000 \\\n",
    "                  --image-size 256"
   ]
  },
  {
   "cell_type": "code",
   "execution_count": null,
   "metadata": {},
   "outputs": [],
   "source": [
    "### Generating\n",
    "!lightweight_gan  --name run_name \\\n",
    "                  --models-dir {models_dir} \\\n",
    "                  --results-dir {results_dir} \\\n",
    "                  --generate \\\n",
    "                  --generate-types default \\\n",
    "                  --num-image-tiles 16\n",
    "                  # --load-from {checkpoint num}"
   ]
  }
 ],
 "metadata": {
  "kernelspec": {
   "display_name": "Python 3",
   "language": "python",
   "name": "python3"
  },
  "language_info": {
   "codemirror_mode": {
    "name": "ipython",
    "version": 3
   },
   "file_extension": ".py",
   "mimetype": "text/x-python",
   "name": "python",
   "nbconvert_exporter": "python",
   "pygments_lexer": "ipython3",
   "version": "3.9.5"
  }
 },
 "nbformat": 4,
 "nbformat_minor": 4
}
