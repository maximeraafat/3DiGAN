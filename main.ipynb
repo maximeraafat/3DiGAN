{
 "cells": [
  {
   "cell_type": "markdown",
   "metadata": {},
   "source": [
    "# Generative Models of Human Appearance"
   ]
  },
  {
   "cell_type": "markdown",
   "metadata": {},
   "source": [
    "Future steps : enable pulling from google colab right away (see http://colab.research.google.com/github for help)\n",
    "\n",
    "For now, everything on Google drive is uploaded manually\n",
    "\n",
    "([colab_term_paper.ipynb](colab_term_paper.ipynb) is currently intended to only be run on google colab)\n",
    "\n"
   ]
  },
  {
   "cell_type": "code",
   "execution_count": null,
   "metadata": {},
   "outputs": [],
   "source": [
    "### Mount google drive if available\n",
    "try:\n",
    "    import google.colab\n",
    "    from google.colab import drive\n",
    "    drive.mount('/content/drive')\n",
    "    drive_path = '/content/drive/MyDrive/term_paper/'\n",
    "    in_colab = True\n",
    "except:\n",
    "    drive_path = ''\n",
    "    in_colab = False"
   ]
  },
  {
   "cell_type": "markdown",
   "metadata": {},
   "source": [
    "### Download Data"
   ]
  },
  {
   "cell_type": "code",
   "execution_count": null,
   "metadata": {},
   "outputs": [],
   "source": [
    "if in_colab:\n",
    "    %run download_humbi --gdrive {drive_path}\n",
    "else:\n",
    "    %run download_humbi"
   ]
  },
  {
   "cell_type": "markdown",
   "metadata": {},
   "source": [
    "### Training and generating with Lighweight GAN"
   ]
  },
  {
   "cell_type": "code",
   "execution_count": null,
   "metadata": {},
   "outputs": [],
   "source": [
    "### See https://github.com/lucidrains/lightweight-gan\n",
    "!pip3 install lightweight-gan"
   ]
  },
  {
   "cell_type": "code",
   "execution_count": null,
   "metadata": {},
   "outputs": [],
   "source": [
    "training_data = drive_path + 'humbi_maps/humbi_body_texture/body_texture_medians/'\n",
    "models_dir = drive_path + 'generated_maps/model/'\n",
    "results_dir = drive_path + 'generated_maps/generated_images/'\n",
    "\n",
    "run_name = 'sample_run_256'"
   ]
  },
  {
   "cell_type": "code",
   "execution_count": null,
   "metadata": {},
   "outputs": [],
   "source": [
    "### Training\n",
    "!lightweight_gan  --data {training_data} \\\n",
    "                  --name {run_name} \\\n",
    "                  --models-dir {models_dir} \\\n",
    "                  --results-dir {results_dir} \\\n",
    "                  --save-every 1000 \\\n",
    "                  --batch-size 8 \\\n",
    "                  --gradient-accumulate-every 4 \\\n",
    "                  --num-train-steps 200000 \\\n",
    "                  --image-size 256"
   ]
  },
  {
   "cell_type": "code",
   "execution_count": null,
   "metadata": {},
   "outputs": [],
   "source": [
    "### Generating\n",
    "!lightweight_gan  --name {run_name} \\\n",
    "                  --models-dir {models_dir} \\\n",
    "                  --results-dir {results_dir} \\\n",
    "                  --generate \\\n",
    "                  --generate-types default \\\n",
    "                  --num-image-tiles 16\n",
    "                  # --load-from {checkpoint num}"
   ]
  },
  {
   "cell_type": "code",
   "execution_count": null,
   "metadata": {},
   "outputs": [],
   "source": [
    "### Show progress\n",
    "!lightweight_gan  --name {run_name} \\\n",
    "                  --models-dir {models_dir} \\\n",
    "                  --results-dir {results_dir} \\\n",
    "                  --show-progress \\\n",
    "                  --generate-types default \\\n",
    "                  --num-image-tiles 1"
   ]
  },
  {
   "cell_type": "code",
   "execution_count": null,
   "metadata": {},
   "outputs": [],
   "source": [
    "### Progress to video\n",
    "progress_imgs = drive_path + 'generated_maps/generated_images/' + run_name + '-progress/*.jpg'\n",
    "progress_video = drive_path + 'generated_maps/generated_images/' + run_name + '.mp4'\n",
    "\n",
    "!ffmpeg -framerate 10 -pattern_type glob -i '{progress_imgs}' {progress_video}\n",
    "print('Video created and saved under', progress_video)"
   ]
  }
 ],
 "metadata": {
  "kernelspec": {
   "display_name": "Python 3",
   "language": "python",
   "name": "python3"
  },
  "language_info": {
   "codemirror_mode": {
    "name": "ipython",
    "version": 3
   },
   "file_extension": ".py",
   "mimetype": "text/x-python",
   "name": "python",
   "nbconvert_exporter": "python",
   "pygments_lexer": "ipython3",
   "version": "3.9.5"
  }
 },
 "nbformat": 4,
 "nbformat_minor": 4
}
