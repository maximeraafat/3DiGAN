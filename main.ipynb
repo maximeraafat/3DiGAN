{
 "cells": [
  {
   "cell_type": "code",
   "execution_count": null,
   "metadata": {
    "id": "M4j60Jqr59jr"
   },
   "outputs": [],
   "source": [
    "### Mount google drive if available\n",
    "try:\n",
    "    from google.colab import drive\n",
    "    drive.mount('/content/drive')\n",
    "    drive_path = '/content/drive/MyDrive/term_paper/'\n",
    "    in_colab = True\n",
    "except:\n",
    "    drive_path = ''\n",
    "    in_colab = False"
   ]
  },
  {
   "cell_type": "code",
   "execution_count": null,
   "metadata": {
    "id": "0IGEJxJc5O4M"
   },
   "outputs": [],
   "source": [
    "### Install all dependecies\n",
    "\n",
    "# pytorch3d\n",
    "import os\n",
    "import sys\n",
    "import torch\n",
    "\n",
    "need_pytorch3d=False\n",
    "try:\n",
    "    import pytorch3d\n",
    "except ModuleNotFoundError:\n",
    "    need_pytorch3d=True\n",
    "\n",
    "if need_pytorch3d:\n",
    "    if torch.__version__.startswith(\"1.10.\") and sys.platform.startswith(\"linux\"):\n",
    "        # We try to install PyTorch3D via a released wheel.\n",
    "        pyt_version_str=torch.__version__.split(\"+\")[0].replace(\".\", \"\")\n",
    "        version_str=\"\".join([\n",
    "            f\"py3{sys.version_info.minor}_cu\",\n",
    "            torch.version.cuda.replace(\".\",\"\"),\n",
    "            f\"_pyt{pyt_version_str}\"\n",
    "        ])\n",
    "        !pip install pytorch3d -f https://dl.fbaipublicfiles.com/pytorch3d/packaging/wheels/{version_str}/download.html\n",
    "    else:\n",
    "        # We try to install PyTorch3D from source.\n",
    "        !curl -LO https://github.com/NVIDIA/cub/archive/1.10.0.tar.gz\n",
    "        !tar xzf 1.10.0.tar.gz\n",
    "        os.environ[\"CUB_HOME\"] = os.getcwd() + \"/cub-1.10.0\"\n",
    "        !pip install 'git+https://github.com/facebookresearch/pytorch3d.git@stable'\n",
    "\n",
    "\n",
    "# smplx\n",
    "need_smplx=False\n",
    "try:\n",
    "    import smplx\n",
    "except ModuleNotFoundError:\n",
    "    need_smplx=True\n",
    "\n",
    "if need_smplx:\n",
    "    !pip install smplx\n",
    "    !git clone https://github.com/vchoutas/smplx\n",
    "    %cd smplx\n",
    "    !python setup.py install\n",
    "    %cd ..\n",
    "\n",
    "\n",
    "# detectron2\n",
    "need_detectron=False\n",
    "try:\n",
    "    import detectron2\n",
    "except ModuleNotFoundError:\n",
    "    need_detectron=True   \n",
    "\n",
    "if need_detectron:\n",
    "    !git clone https://github.com/facebookresearch/detectron2.git detectron2_repo\n",
    "    !python -m pip install 'git+https://github.com/facebookresearch/detectron2.git'\n",
    "\n",
    "\n",
    "# cleanup\n",
    "!rm -rf 1.10.0.tar.gz cub-1.10.0/"
   ]
  },
  {
   "cell_type": "code",
   "execution_count": null,
   "metadata": {
    "id": "b9131m_M7ql5"
   },
   "outputs": [],
   "source": [
    "### CAREFUL: Using the --subdivision flag disables saving displacement map as a texture\n",
    "if in_colab:\n",
    "    %run main.py --subjects '[1, 70, 122]' --gdrive {drive_path} --saveobj --smoothing\n",
    "else:\n",
    "    %run main.py --subjects '[1, 70, 122]' --saveobj --smoothing"
   ]
  },
  {
   "cell_type": "code",
   "execution_count": null,
   "metadata": {},
   "outputs": [],
   "source": [
    "import smplx\n",
    "import numpy as np\n",
    "import matplotlib.pyplot as plt\n",
    "from utils.smplx_to_disps import smplx2disps\n",
    "from utils.inpainting import get_disps_inpaint\n",
    "\n",
    "device = torch.device('cuda' if torch.cuda.is_available() else 'cpu')\n",
    "\n",
    "subjects = range(1,618)\n",
    "\n",
    "obj_path = drive_path + 'smplx/smplx_uv.obj'\n",
    "uv_mask_img = drive_path + 'smplx/smplx_uv.png'\n",
    "\n",
    "save_path_imgs = drive_path + 'humbi_output/humbi_smplx_disps'\n",
    "save_path_npz = drive_path + 'humbi_output/humbi_smplx_npz'\n",
    "\n",
    "smplx_model_path = drive_path + 'smplx'\n",
    "smplx_model = smplx.SMPLXLayer(smplx_model_path, 'neutral').to(device)\n",
    "\n",
    "for subject in subjects:\n",
    "    geometry_filename = os.path.join(save_path_npz, 'output_subject_%d.npz' % subject)\n",
    "\n",
    "    if os.path.exists(geometry_filename):\n",
    "        npzfile = np.load(geometry_filename)\n",
    "\n",
    "        body_pose = torch.Tensor(npzfile['body_pose']).to(device)\n",
    "        betas = torch.Tensor(npzfile['betas']).to(device)\n",
    "        scale = torch.Tensor(npzfile['scale']).to(device)\n",
    "        verts_disps = torch.Tensor(npzfile['verts_disps']).to(device)\n",
    "\n",
    "        learned_geometry = smplx2disps(smplx_model, betas, scale, verts_disps, False, smoothing=1)[0]\n",
    "\n",
    "        disps_x = get_disps_inpaint(subject, learned_geometry[:,0], obj_path, uv_mask_img, mask_disps=True)[0]\n",
    "        disps_y = get_disps_inpaint(subject, learned_geometry[:,1], obj_path, uv_mask_img, mask_disps=True)[0]\n",
    "        disps_z = get_disps_inpaint(subject, learned_geometry[:,2], obj_path, uv_mask_img, mask_disps=True)[0]\n",
    "        displacement_map = torch.cat((disps_x.unsqueeze(2), disps_y.unsqueeze(2), disps_z.unsqueeze(2)), dim=2)\n",
    "\n",
    "        os.makedirs(save_path_imgs, exist_ok=True)\n",
    "        disp_filename = os.path.join(save_path_imgs, 'disp_texture_%d.tiff' % subject)\n",
    "        plt.imsave(disp_filename, displacement_map.cpu().numpy() + 0.5)\n",
    "\n",
    "        # TODO: replace current npzfile with corrected learned_geometry"
   ]
  }
 ],
 "metadata": {
  "accelerator": "GPU",
  "colab": {
   "collapsed_sections": [],
   "name": "main.ipynb",
   "provenance": []
  },
  "kernelspec": {
   "display_name": "Python 3",
   "language": "python",
   "name": "python3"
  },
  "language_info": {
   "codemirror_mode": {
    "name": "ipython",
    "version": 3
   },
   "file_extension": ".py",
   "mimetype": "text/x-python",
   "name": "python",
   "nbconvert_exporter": "python",
   "pygments_lexer": "ipython3",
   "version": "3.9.9"
  }
 },
 "nbformat": 4,
 "nbformat_minor": 4
}
