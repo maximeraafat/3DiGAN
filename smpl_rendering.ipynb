{
 "cells": [
  {
   "cell_type": "code",
   "execution_count": null,
   "metadata": {
    "id": "W9mjNh_XjB4s"
   },
   "outputs": [],
   "source": [
    "### Mount google drive if available\n",
    "try:\n",
    "    from google.colab import drive\n",
    "    drive.mount('/content/drive')\n",
    "    drive_path = '/content/drive/MyDrive/term_paper/'\n",
    "    in_colab = True\n",
    "except:\n",
    "    drive_path = ''\n",
    "    in_colab = False"
   ]
  },
  {
   "cell_type": "code",
   "execution_count": null,
   "metadata": {
    "id": "VgJYmow2NB91"
   },
   "outputs": [],
   "source": [
    "### Install all dependecies\n",
    "\n",
    "# pytorch3d\n",
    "import os\n",
    "import sys\n",
    "import torch\n",
    "\n",
    "need_pytorch3d=False\n",
    "try:\n",
    "    import pytorch3d\n",
    "except ModuleNotFoundError:\n",
    "    need_pytorch3d=True\n",
    "\n",
    "if need_pytorch3d:\n",
    "    if torch.__version__.startswith(\"1.9\") and sys.platform.startswith(\"linux\"):\n",
    "        # We try to install PyTorch3D via a released wheel.\n",
    "        version_str=\"\".join([\n",
    "            f\"py3{sys.version_info.minor}_cu\",\n",
    "            torch.version.cuda.replace(\".\",\"\"),\n",
    "            f\"_pyt{torch.__version__[0:5:2]}\"\n",
    "        ])\n",
    "        !pip install pytorch3d -f https://dl.fbaipublicfiles.com/pytorch3d/packaging/wheels/{version_str}/download.html\n",
    "    else:\n",
    "        # We try to install PyTorch3D from source.\n",
    "        !curl -LO https://github.com/NVIDIA/cub/archive/1.10.0.tar.gz\n",
    "        !tar xzf 1.10.0.tar.gz\n",
    "        os.environ[\"CUB_HOME\"] = os.getcwd() + \"/cub-1.10.0\"\n",
    "        !pip install 'git+https://github.com/facebookresearch/pytorch3d.git@stable'\n",
    "\n",
    "\n",
    "# smpl-x\n",
    "need_smplx=False\n",
    "try:\n",
    "    import smplx\n",
    "except ModuleNotFoundError:\n",
    "    need_smplx=True\n",
    "\n",
    "if need_smplx:\n",
    "    !pip install smplx\n",
    "    !git clone https://github.com/vchoutas/smplx\n",
    "    %cd smplx\n",
    "    !python setup.py install\n",
    "    %cd .."
   ]
  },
  {
   "cell_type": "code",
   "execution_count": null,
   "metadata": {
    "id": "8owkzySKcO6c"
   },
   "outputs": [],
   "source": [
    "import smplx\n",
    "import matplotlib.pyplot as plt\n",
    "from pytorch3d.vis.plotly_vis import plot_scene\n",
    "from pytorch3d.vis.texture_vis import texturesuv_image_matplotlib\n",
    "from torchvision.io import read_image\n",
    "\n",
    "from pytorch3d.io import load_obj\n",
    "from pytorch3d.structures import Meshes, packed_to_list\n",
    "from pytorch3d.renderer import (\n",
    "    look_at_view_transform,\n",
    "    FoVOrthographicCameras,\n",
    "    PerspectiveCameras,\n",
    "    PointLights,\n",
    "    Materials,\n",
    "    RasterizationSettings,\n",
    "    MeshRenderer,\n",
    "    MeshRasterizer,\n",
    "    SoftPhongShader,\n",
    "    BlendParams,\n",
    "    TexturesVertex,\n",
    "    TexturesUV\n",
    ")"
   ]
  },
  {
   "cell_type": "code",
   "execution_count": null,
   "metadata": {
    "id": "unsdLa2kUaEY"
   },
   "outputs": [],
   "source": [
    "### Setup\n",
    "if torch.cuda.is_available():\n",
    "    device = torch.device('cuda:0')\n",
    "    torch.cuda.set_device(device)\n",
    "else:\n",
    "    device = torch.device('cpu')"
   ]
  },
  {
   "cell_type": "code",
   "execution_count": null,
   "metadata": {
    "id": "iHJoZ-UcNuiI"
   },
   "outputs": [],
   "source": [
    "### Load SMPL-X model as Pytorch3d mesh\n",
    "\n",
    "# if true, use SMPL object for HUMBI ; otherwise use SMPLX model\n",
    "HUMBI_SMPL = True\n",
    "\n",
    "if HUMBI_SMPL:\n",
    "    # TEX_PATH = drive_path + 'humbi_maps/humbi_body_texture/body_texture_medians/median_subject_1.png'\n",
    "    TEX_PATH = drive_path + 'generated_maps/generated_images/sample_run_256-progress/87.jpg'\n",
    "    OBJ_PATH = drive_path + 'smpl_bodies/text_uv_coor_smpl.obj'\n",
    "\n",
    "    tex_img = read_image(TEX_PATH)\n",
    "    smplx_tex_img = torch.moveaxis(tex_img, 0, 2).unsqueeze_(0).float() * 1.0/255\n",
    "\n",
    "    mesh = load_obj(OBJ_PATH, load_textures=False)\n",
    "\n",
    "    verts_uvs = mesh[2].verts_uvs.unsqueeze_(0)\n",
    "    faces_uvs = mesh[1].textures_idx.unsqueeze_(0)\n",
    "\n",
    "    smplx_mesh_verts = mesh[0].unsqueeze_(0)\n",
    "    smplx_mesh_faces = mesh[1].verts_idx.unsqueeze_(0)\n",
    "    smplx_texture = TexturesUV(maps=smplx_tex_img, faces_uvs=faces_uvs, verts_uvs=verts_uvs)\n",
    "\n",
    "else:\n",
    "    SMPLX_MODEL_PATH = drive_path + 'smpl_bodies'\n",
    "\n",
    "    smplx_model = smplx.SMPLXLayer(SMPLX_MODEL_PATH, gender='neutral')\n",
    "\n",
    "    smplx_mesh_verts = smplx_model.forward()['vertices']\n",
    "    smplx_mesh_faces = torch.Tensor(smplx_model.faces.astype('int')).type(torch.int32).unsqueeze(0)\n",
    "    smplx_verts_colors = torch.ones_like(smplx_mesh_verts)\n",
    "    smplx_texture = TexturesVertex(verts_features=smplx_verts_colors)\n",
    "\n",
    "smplx_mesh = Meshes(smplx_mesh_verts, smplx_mesh_faces, smplx_texture)"
   ]
  },
  {
   "cell_type": "code",
   "execution_count": null,
   "metadata": {
    "id": "83LaDCZoCNGN"
   },
   "outputs": [],
   "source": [
    "### If HUMBI_SMPL = True, visualize the loaded texture\n",
    "if HUMBI_SMPL:  \n",
    "    plt.figure(figsize=(10, 10))\n",
    "    texture_image = smplx_texture.maps_padded()\n",
    "    plt.imshow(texture_image.squeeze().cpu().numpy())\n",
    "    plt.axis('off');\n",
    "\n",
    "    plt.figure(figsize=(10, 10))\n",
    "    texturesuv_image_matplotlib(smplx_texture, subsample=None)\n",
    "    plt.axis(\"off\");"
   ]
  },
  {
   "cell_type": "code",
   "execution_count": null,
   "metadata": {
    "id": "Alg7W7KvPdr8"
   },
   "outputs": [],
   "source": [
    "### Setup pytorch3d mesh renderer\n",
    "\n",
    "def get_mesh_renderer(img_width=1024, img_height=1024, device=device):\n",
    "\n",
    "    raster_settings = RasterizationSettings(\n",
    "        image_size=(img_width, img_height), \n",
    "        blur_radius=0.0, \n",
    "        faces_per_pixel=1,\n",
    "        max_faces_per_bin=10000\n",
    "    )\n",
    "\n",
    "    blend_params = BlendParams(background_color=(0, 0, 0))\n",
    "    lights = PointLights(device=device, location=[[2.0, 2.0, 2.0]])\n",
    "\n",
    "    cameras = PerspectiveCameras().to(device)\n",
    "\n",
    "    mesh_renderer = MeshRenderer(\n",
    "        rasterizer=MeshRasterizer(\n",
    "            cameras=cameras, \n",
    "            raster_settings=raster_settings\n",
    "        ),\n",
    "        shader=SoftPhongShader(\n",
    "            device=device, \n",
    "            cameras=cameras,\n",
    "            lights=lights,\n",
    "            blend_params=blend_params\n",
    "        )\n",
    "    )\n",
    "\n",
    "    return mesh_renderer"
   ]
  },
  {
   "cell_type": "code",
   "execution_count": null,
   "metadata": {
    "id": "vTqtRAX-RXld"
   },
   "outputs": [],
   "source": [
    "### Render test mesh\n",
    "\n",
    "img_width, img_height = 1024, 1024\n",
    "mesh_renderer = get_mesh_renderer(img_width, img_height, device)\n",
    "\n",
    "smplx_mesh = smplx_mesh.to(device)\n",
    "\n",
    "materials = Materials(device=device, specular_color=[[0.0, 0.0, 0.0]], shininess=0.0)\n",
    "\n",
    "dist = 1\n",
    "azim = 20\n",
    "elev = 20\n",
    "R, T = look_at_view_transform(dist=dist, elev=elev, azim=azim)\n",
    "\n",
    "if HUMBI_SMPL:\n",
    "    min_y = -0.2 ; max_y = 1.8\n",
    "else:\n",
    "    min_y = -1.4 ; max_y = 0.6\n",
    "\n",
    "cameras = FoVOrthographicCameras(min_y=min_y, max_y=max_y, R=R, T=T).to(device)\n",
    "\n",
    "img = mesh_renderer(smplx_mesh, cameras=cameras, materials=materials)[0, :, :, 0:3].detach().cpu().numpy()\n",
    "\n",
    "plt.figure(figsize=(10, 10))\n",
    "plt.axis('off')\n",
    "plt.imshow(img)\n",
    "\n",
    "if HUMBI_SMPL:\n",
    "    final_render = drive_path + 'generated_maps/generated_images/sample_run_256.png'\n",
    "    plt.savefig(final_render, bbox_inches='tight')"
   ]
  },
  {
   "cell_type": "code",
   "execution_count": null,
   "metadata": {
    "id": "ZIpoSXVYx0ru"
   },
   "outputs": [],
   "source": [
    "### Plotly (interactive) visualization\n",
    "\n",
    "# Convert TexturesUV to TexturesVertex\n",
    "def convert_to_textureVertex(textures_uv: TexturesUV, meshes:Meshes) -> TexturesVertex:\n",
    "    verts_colors_packed = torch.zeros_like(meshes.verts_packed())\n",
    "    verts_colors_packed[meshes.faces_packed()] = textures_uv.faces_verts_textures_packed().to(device)\n",
    "    return TexturesVertex( packed_to_list(verts_colors_packed, meshes.num_verts_per_mesh()) ) \n",
    "\n",
    "vertex_texture = convert_to_textureVertex(smplx_texture, smplx_mesh)\n",
    "\n",
    "mesh = Meshes(\n",
    "    verts=smplx_mesh_verts.to(device),   \n",
    "    faces=smplx_mesh_faces.to(device),\n",
    "    textures=vertex_texture\n",
    ")\n",
    "\n",
    "# Render figure\n",
    "fig = plot_scene({\n",
    "    \"Humbi generated texture mapped on SMPL body\": {\n",
    "        \"plot\": mesh\n",
    "        }\n",
    "},)\n",
    "\n",
    "fig.show()"
   ]
  }
 ],
 "metadata": {
  "accelerator": "GPU",
  "colab": {
   "collapsed_sections": [],
   "name": "smpl_rendering.ipynb",
   "provenance": []
  },
  "kernelspec": {
   "display_name": "Python 3",
   "language": "python",
   "name": "python3"
  },
  "language_info": {
   "codemirror_mode": {
    "name": "ipython",
    "version": 3
   },
   "file_extension": ".py",
   "mimetype": "text/x-python",
   "name": "python",
   "nbconvert_exporter": "python",
   "pygments_lexer": "ipython3",
   "version": "3.9.5"
  }
 },
 "nbformat": 4,
 "nbformat_minor": 4
}
