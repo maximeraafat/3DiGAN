{
 "cells": [
  {
   "cell_type": "code",
   "execution_count": null,
   "metadata": {
    "id": "8Q9vYcbvQAZq"
   },
   "outputs": [],
   "source": [
    "### Mount google drive\n",
    "from google.colab import drive\n",
    "drive.mount('/content/drive')"
   ]
  },
  {
   "cell_type": "code",
   "execution_count": null,
   "metadata": {
    "id": "AQbl3EBVSbfa"
   },
   "outputs": [],
   "source": [
    "import os\n",
    "import shutil\n",
    "import zipfile\n",
    "import urllib.request as request\n",
    "from PIL import Image\n",
    "from tqdm.notebook import tqdm"
   ]
  },
  {
   "cell_type": "code",
   "execution_count": null,
   "metadata": {
    "id": "jPA30r-y4lEj"
   },
   "outputs": [],
   "source": [
    "### Check how many subjects are available for download in the Humbi dataset (only in notebook due to !wget)\n",
    "\n",
    "# attribute : attribute of interest (string)\n",
    "\n",
    "# Return number of subjects available in Humbi\n",
    "\n",
    "SUBJECT_IDS = range(1, 618)\n",
    "\n",
    "def count_humbi_subjects(attribute, subject_ids = SUBJECT_IDS,\n",
    "                         root_url = 'https://humbi-dataset.s3.amazonaws.com'):\n",
    "    part_name = attribute + '_subject'\n",
    "    count = 0\n",
    "    exists_string = 'Remote file exists.'\n",
    "\n",
    "    for subject in tqdm(SUBJECT_IDS):\n",
    "        zip_file = 'subject_%d.zip' % subject\n",
    "        url = os.path.join(root_url, part_name, zip_file)\n",
    "        subject_exists = !wget --spider $url\n",
    "        count += 1 * (exists_string in subject_exists)\n",
    "\n",
    "    return count\n",
    "\n",
    "print( count_humbi_subjects(attribute = 'body_texture') )"
   ]
  },
  {
   "cell_type": "code",
   "execution_count": null,
   "metadata": {
    "id": "vZ3-8TjqvQ7X"
   },
   "outputs": [],
   "source": [
    "### Download and extract attribute from single subject of humbi dataset\n",
    "\n",
    "# attribute : attribute of interest (string)\n",
    "# subject : subject of interest (integer)\n",
    "# target_dir : path to which the data will be downloaded to (string)\n",
    "\n",
    "# Return True if and only if download succeeded\n",
    "\n",
    "def load_part(attribute, subject,\n",
    "              root_url = 'https://humbi-dataset.s3.amazonaws.com',\n",
    "              target_dir = os.getcwd()):\n",
    "    part_name = attribute + '_subject'\n",
    "    zip_file = 'subject_%d.zip' % subject # OR 'subject_' + str(subject) + '.zip'\n",
    "    url = os.path.join(root_url, part_name, zip_file)\n",
    "    target_path = os.path.join('%s_%d.zip' % (part_name, subject))\n",
    "\n",
    "    try:\n",
    "        request.urlretrieve(url, target_path) # OR !wget url\n",
    "        downloaded_zip = zipfile.ZipFile(target_path)\n",
    "        downloaded_zip.extractall(target_dir) # !unzip downloaded_zip\n",
    "        return True\n",
    "    except request.HTTPError:\n",
    "        print('%s attribute is missing for subject %d' % (attribute, subject))\n",
    "        return False"
   ]
  },
  {
   "cell_type": "code",
   "execution_count": null,
   "metadata": {
    "id": "bD0wvFLr6Ppg"
   },
   "outputs": [],
   "source": [
    "### Extract map from a subject\n",
    "\n",
    "# attribute : attribute of interest (string)\n",
    "# subject : subject of interest (integer)\n",
    "# map : map of interest, i.e. mean/median/std/var (string)\n",
    "# pose : body pose the subject is taking (string)\n",
    "# target_dir : path to which the subject data has been downloaded to (string)\n",
    "\n",
    "# Return extracted image\n",
    "\n",
    "def extract_image(attribute, subject, map, pose = '00000025', target_dir = os.getcwd()):\n",
    "    assert(map in ['mean', 'median', 'std', 'var']), \"map needs to be one of ['mean', 'median', 'std', 'var']\"\n",
    "\n",
    "    path_to_subject = os.path.join(target_dir, 'subject_%d' % subject)\n",
    "    map_name = map + '_map' + '_hot' * (map == 'std' or map == 'var') + '.png'\n",
    "\n",
    "    if attribute in ['body', 'body_texture', 'cloth']:\n",
    "        attribute_path = 'body'\n",
    "    elif attribute in ['face', 'face_texture']:\n",
    "        attribute_path = 'face'\n",
    "    elif attribute in ['gaze', 'gaze_texture']:\n",
    "        attribute_path = 'gaze'\n",
    "    else:\n",
    "        attribute_path = attribute\n",
    "\n",
    "    poses_path = os.path.join(path_to_subject, attribute_path)\n",
    "\n",
    "    if pose not in os.listdir(poses_path):\n",
    "        new_pose = sorted(os.listdir(poses_path))[0]\n",
    "        print('pose %s not available for subject %d, we replace with first pose available : %s' % (pose, subject, new_pose))\n",
    "        pose = new_pose\n",
    "\n",
    "    image_path = os.path.join(path_to_subject, attribute_path, pose, 'appearance', map_name)\n",
    "    image = Image.open(image_path)\n",
    "\n",
    "    return image"
   ]
  },
  {
   "cell_type": "code",
   "execution_count": null,
   "metadata": {
    "id": "XporXkF8oxQ2"
   },
   "outputs": [],
   "source": [
    "### Store image to drive\n",
    "\n",
    "# image : PIL image to store\n",
    "# save_path : path to which the image will be stored\n",
    "# attribute : attribute of interest (string)\n",
    "# subject : subject of interest (integer)\n",
    "# map : map of interest, i.e. mean/median/std/var (string)\n",
    "\n",
    "def save_to_drive(image, save_path, attribute, subject, map):\n",
    "    assert(map in ['mean', 'median', 'std', 'var']), \"map needs to be one of ['mean', 'median', 'std', 'var']\"\n",
    "\n",
    "    outer_directory = 'humbi_' + attribute\n",
    "    inner_directory = attribute + '_' + map + 's'\n",
    "    filename = map + '_subject_%d.png' % subject\n",
    "\n",
    "    store_path = os.path.join(save_path, outer_directory, inner_directory, filename)\n",
    "    os.makedirs(os.path.dirname(store_path), exist_ok = True)\n",
    "\n",
    "    image.save(store_path, 'PNG')\n",
    "\n",
    "    return"
   ]
  },
  {
   "cell_type": "code",
   "execution_count": null,
   "metadata": {
    "id": "9cFVfR4vM9U0"
   },
   "outputs": [],
   "source": [
    "### Clean disk\n",
    "\n",
    "# attribute : attribute of interest (string)\n",
    "# subject : subject of interest (integer)\n",
    "# target_dir : path to which the subject data has been downloaded to (string)\n",
    "\n",
    "def remove_subject(attribute, subject, target_dir = os.getcwd()):\n",
    "    subject_directory = os.path.join(target_dir, 'subject_%d' % subject)\n",
    "    subject_zip = os.path.join(target_dir, attribute + '_subject_%d.zip' % subject)\n",
    "\n",
    "    shutil.rmtree(subject_directory)\n",
    "    os.remove(subject_zip)\n",
    "\n",
    "    return"
   ]
  },
  {
   "cell_type": "code",
   "execution_count": null,
   "metadata": {
    "id": "xSByv9GpqEEq"
   },
   "outputs": [],
   "source": [
    "### Handle special pose cases\n",
    "\n",
    "# pose : pose to download (string)\n",
    "# subject : subject to download (integer)\n",
    "\n",
    "poses = ['00000001', '00000009', '00000025'] # neutral pose 1, neutral pose 2 pose and T-pose\n",
    "new_poses = ['00000051', '00000067', '00000131'] # equivalent poses for subjects 454 and above\n",
    "\n",
    "def change_if_special_case(pose, subject):\n",
    "    if pose in poses and subject >= 454:\n",
    "        pose = new_poses[ poses.index(pose) ]\n",
    "\n",
    "    return pose"
   ]
  },
  {
   "cell_type": "code",
   "execution_count": null,
   "metadata": {
    "id": "gjTJ50UtcWwy"
   },
   "outputs": [],
   "source": [
    "### Download humbi dataset\n",
    "\n",
    "# attributes : list of body attributes/parts to load from ['body', 'body_texture', 'face', 'face_texture', 'gaze', 'gaze_texture', 'cloth', 'hand']\n",
    "# subject_ids : range(1, 617)\n",
    "# maps : list of maps to download from ['mean', 'median', 'std', 'var']\n",
    "# pose : pose to download (string)\n",
    "# save_path : path to which the extracted maps will be stored\n",
    "# target_dir : path to which the data will be downloaded to (string)\n",
    "\n",
    "## CAREFUL : subjects are missing ; 'hand' attribute only has 453 subjects\n",
    "\n",
    "ATTRIBUTES = ['body', 'body_texture', 'face', 'face_texture', 'gaze', 'gaze_texture', 'cloth', 'hand']\n",
    "SUBJECT_IDS = range(1, 618)  # all subjects by default\n",
    "MAPS = ['mean', 'median', 'std', 'var']\n",
    "POSE = '00000009' # neutral pose\n",
    "SAVE_PATH = '/content/drive/MyDrive/term_paper/humbi_maps'\n",
    "\n",
    "def download_humbi_maps(attributes = ATTRIBUTES, subject_ids = SUBJECT_IDS,\n",
    "                        maps = MAPS, poses = POSE, save_path = SAVE_PATH, \n",
    "                        root_url = 'https://humbi-dataset.s3.amazonaws.com',\n",
    "                        target_dir = os.getcwd()):\n",
    "    if not isinstance(attributes, list):\n",
    "        attributes = [attributes]\n",
    "\n",
    "    if isinstance(subject_ids, int):\n",
    "        subject_ids = range(subject_ids, subject_ids + 1)\n",
    "\n",
    "    if not isinstance(maps, list):\n",
    "        maps = [attributes]\n",
    "\n",
    "    if not isinstance(poses, list):\n",
    "        poses = [poses]\n",
    "\n",
    "    if not os.path.exists(target_dir):\n",
    "        os.makedirs(target_dir)\n",
    "\n",
    "    for subject in tqdm(subject_ids):\n",
    "        for attribute in attributes:\n",
    "            loaded = load_part(attribute, subject, root_url, target_dir)\n",
    "            if loaded:\n",
    "                for map in maps:\n",
    "                    for pose in poses:\n",
    "                        pose = change_if_special_case(pose, subject)\n",
    "                        image = extract_image(attribute, subject, map, pose, target_dir)\n",
    "                        save_to_drive(image, save_path, attribute, subject, map)\n",
    "                remove_subject(attribute, subject, target_dir)\n",
    "\n",
    "    return"
   ]
  },
  {
   "cell_type": "code",
   "execution_count": null,
   "metadata": {
    "id": "KiUZVfe1Y3NL"
   },
   "outputs": [],
   "source": [
    "download_humbi_maps(attributes = 'body_texture')"
   ]
  },
  {
   "cell_type": "code",
   "execution_count": null,
   "metadata": {
    "id": "xcqTIjVTPbb8"
   },
   "outputs": [],
   "source": [
    "### See https://github.com/lucidrains/lightweight-gan\n",
    "!pip install lightweight-gan"
   ]
  },
  {
   "cell_type": "code",
   "execution_count": null,
   "metadata": {
    "id": "f8VA5gfptPWL"
   },
   "outputs": [],
   "source": [
    "drive_path = '/content/drive/MyDrive/term_paper/'\n",
    "\n",
    "training_data = drive_path + 'humbi_maps/humbi_body_texture/body_texture_medians/'\n",
    "models_dir = drive_path + 'generated_maps/model/'\n",
    "results_dir = drive_path + 'generated_maps/generated_images/'\n",
    "\n",
    "run_name = 'sample_run_256'"
   ]
  },
  {
   "cell_type": "code",
   "execution_count": null,
   "metadata": {
    "id": "kSt7A9FTRUoZ"
   },
   "outputs": [],
   "source": [
    "### Training\n",
    "!lightweight_gan  --data {training_data} \\\n",
    "                  --name {run_name} \\\n",
    "                  --models-dir {models_dir} \\\n",
    "                  --results-dir {results_dir} \\\n",
    "                  --save-every 1000 \\\n",
    "                  --batch-size 8 \\\n",
    "                  --gradient-accumulate-every 4 \\\n",
    "                  --num-train-steps 200000 \\\n",
    "                  --image-size 256"
   ]
  },
  {
   "cell_type": "code",
   "execution_count": null,
   "metadata": {
    "id": "6J8mxyfHqtko"
   },
   "outputs": [],
   "source": [
    "### Generating\n",
    "!lightweight_gan  --name {run_name} \\\n",
    "                  --models-dir {models_dir} \\\n",
    "                  --results-dir {results_dir} \\\n",
    "                  --generate \\\n",
    "                  --generate-types default \\\n",
    "                  --num-image-tiles 16\n",
    "                  # --load-from {checkpoint num}"
   ]
  },
  {
   "cell_type": "code",
   "execution_count": null,
   "metadata": {
    "id": "FVfwYkqtAj_v"
   },
   "outputs": [],
   "source": [
    "### Show progress\n",
    "!lightweight_gan  --name {run_name} \\\n",
    "                  --models-dir {models_dir} \\\n",
    "                  --results-dir {results_dir} \\\n",
    "                  --show-progress \\\n",
    "                  --generate-types default \\\n",
    "                  --num-image-tiles 1"
   ]
  },
  {
   "cell_type": "code",
   "execution_count": null,
   "metadata": {
    "id": "40eV_0ygCIIH"
   },
   "outputs": [],
   "source": [
    "### Progress to video\n",
    "progress_imgs = drive_path + 'generated_maps/generated_images/' + run_name + '-progress/*.jpg'\n",
    "progress_video = drive_path + 'generated_maps/generated_images/' + run_name + '.mp4'\n",
    "\n",
    "!ffmpeg -framerate 10 -pattern_type glob -i '{progress_imgs}' {progress_video}\n",
    "print('Video created and saved under', progress_video)"
   ]
  }
 ],
 "metadata": {
  "colab": {
   "collapsed_sections": [],
   "name": "colab_term_paper.ipynb",
   "provenance": []
  },
  "kernelspec": {
   "display_name": "Python 3",
   "language": "python",
   "name": "python3"
  },
  "language_info": {
   "codemirror_mode": {
    "name": "ipython",
    "version": 3
   },
   "file_extension": ".py",
   "mimetype": "text/x-python",
   "name": "python",
   "nbconvert_exporter": "python",
   "pygments_lexer": "ipython3",
   "version": "3.9.5"
  }
 },
 "nbformat": 4,
 "nbformat_minor": 4
}
