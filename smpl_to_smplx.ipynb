{
 "cells": [
  {
   "cell_type": "code",
   "execution_count": null,
   "metadata": {
    "id": "weKUr0Ckkv2S"
   },
   "outputs": [],
   "source": [
    "### Mount google drive if available\n",
    "try:\n",
    "    from google.colab import drive\n",
    "    drive.mount('/content/drive')\n",
    "    drive_path = '/content/drive/MyDrive/term_paper/'\n",
    "    in_colab = True\n",
    "except:\n",
    "    drive_path = ''\n",
    "    in_colab = False"
   ]
  },
  {
   "cell_type": "code",
   "execution_count": null,
   "metadata": {
    "id": "VgJYmow2NB91"
   },
   "outputs": [],
   "source": [
    "### Install all dependecies\n",
    "\n",
    "# pytorch3d\n",
    "import os\n",
    "import sys\n",
    "import torch\n",
    "\n",
    "need_pytorch3d=False\n",
    "try:\n",
    "    import pytorch3d\n",
    "except ModuleNotFoundError:\n",
    "    need_pytorch3d=True\n",
    "\n",
    "if need_pytorch3d:\n",
    "    if torch.__version__.startswith(\"1.9\") and sys.platform.startswith(\"linux\"):\n",
    "        # We try to install PyTorch3D via a released wheel.\n",
    "        version_str=\"\".join([\n",
    "            f\"py3{sys.version_info.minor}_cu\",\n",
    "            torch.version.cuda.replace(\".\",\"\"),\n",
    "            f\"_pyt{torch.__version__[0:5:2]}\"\n",
    "        ])\n",
    "        !pip install pytorch3d -f https://dl.fbaipublicfiles.com/pytorch3d/packaging/wheels/{version_str}/download.html\n",
    "    else:\n",
    "        # We try to install PyTorch3D from source.\n",
    "        !curl -LO https://github.com/NVIDIA/cub/archive/1.10.0.tar.gz\n",
    "        !tar xzf 1.10.0.tar.gz\n",
    "        os.environ[\"CUB_HOME\"] = os.getcwd() + \"/cub-1.10.0\"\n",
    "        !pip install 'git+https://github.com/facebookresearch/pytorch3d.git@stable'\n",
    "\n",
    "\n",
    "# smpl-x\n",
    "need_smplx=False\n",
    "try:\n",
    "    import smplx\n",
    "except ModuleNotFoundError:\n",
    "    need_smplx=True\n",
    "\n",
    "if need_smplx:\n",
    "    !pip install smplx\n",
    "    !git clone https://github.com/vchoutas/smplx\n",
    "    %cd smplx\n",
    "    !python setup.py install\n",
    "    %cd ..\n",
    "\n",
    "\n",
    "# bps\n",
    "need_bps=False\n",
    "try:\n",
    "    import bps\n",
    "except ModuleNotFoundError:\n",
    "    need_bps=True\n",
    "\n",
    "if need_bps:\n",
    "    !pip install git+https://github.com/sergeyprokudin/bps\n",
    "\n",
    "\n",
    "# cleanup\n",
    "!rm -rf 1.10.0.tar.gz cub-1.10.0/"
   ]
  },
  {
   "cell_type": "code",
   "execution_count": null,
   "metadata": {},
   "outputs": [],
   "source": [
    "import numpy as np\n",
    "import matplotlib.pyplot as plt\n",
    "from scipy import interpolate\n",
    "from torchvision.io import read_image\n",
    "from pytorch3d.io import load_obj\n",
    "from pytorch3d.structures import Meshes"
   ]
  },
  {
   "cell_type": "code",
   "execution_count": null,
   "metadata": {},
   "outputs": [],
   "source": [
    "import importlib\n",
    "import utils.plot_structures\n",
    "import utils.smpl_to_smplx\n",
    "importlib.reload(utils.plot_structures)\n",
    "importlib.reload(utils.smpl_to_smplx)"
   ]
  },
  {
   "cell_type": "code",
   "execution_count": null,
   "metadata": {},
   "outputs": [],
   "source": [
    "import smplx\n",
    "from utils.plot_structures import plot_structure\n",
    "from utils.smpl_to_smplx import humbi_smpl_mesh, construct_smplx_mesh, smpl2smplx"
   ]
  },
  {
   "cell_type": "code",
   "execution_count": null,
   "metadata": {},
   "outputs": [],
   "source": [
    "### Setup\n",
    "device = torch.device('cuda' if torch.cuda.is_available() else 'cpu')"
   ]
  },
  {
   "cell_type": "code",
   "execution_count": null,
   "metadata": {},
   "outputs": [],
   "source": [
    "subject = 1\n",
    "pose = '00000001'\n",
    "\n",
    "smplx_model_path = drive_path + 'smplx'\n",
    "smplx_model = smplx.SMPLXLayer(smplx_model_path, 'neutral').to(device)"
   ]
  },
  {
   "cell_type": "code",
   "execution_count": null,
   "metadata": {},
   "outputs": [],
   "source": [
    "global_orient, transl, body_pose, betas, scale, pose_loss, shape_loss = smpl2smplx(smplx_model, subject, pose, pose_iterations=200, shape_iterations=100)"
   ]
  },
  {
   "cell_type": "code",
   "execution_count": null,
   "metadata": {},
   "outputs": [],
   "source": [
    "smpl_mesh = humbi_smpl_mesh(subject, pose)\n",
    "smplx_mesh = construct_smplx_mesh(smplx_model, global_orient, transl, body_pose, betas, scale)\n",
    "\n",
    "plot_structure([smpl_mesh, smplx_mesh])"
   ]
  },
  {
   "cell_type": "code",
   "execution_count": null,
   "metadata": {},
   "outputs": [],
   "source": [
    "def displacement_from_smplx_param(smplx_model, betas, scale):\n",
    "    smplx_faces = torch.Tensor(smplx_model.faces.astype('int')).type(torch.int32).unsqueeze(0).to(device)\n",
    "\n",
    "    init_verts = smplx_model.forward()['vertices'].to(device) * scale\n",
    "    init_mesh = Meshes(init_verts, smplx_faces)\n",
    "\n",
    "    displaced_verts = smplx_model.forward(betas=betas)['vertices'].to(device) * scale\n",
    "    displaced_mesh = Meshes(displaced_verts, smplx_faces)\n",
    "\n",
    "    displacements = displaced_mesh.verts_packed() - init_mesh.verts_packed()\n",
    "    displacements_along_nrm = torch.sum(displacements * init_mesh.verts_normals_packed(), dim=1).to(device)\n",
    "\n",
    "    return displacements_along_nrm / scale.item()"
   ]
  },
  {
   "cell_type": "code",
   "execution_count": null,
   "metadata": {},
   "outputs": [],
   "source": [
    "shape_displacements = displacement_from_smplx_param(smplx_model, betas, scale)\n",
    "\n",
    "init_verts = smplx_model.forward()['vertices'].to(device)\n",
    "smplx_faces = torch.Tensor(smplx_model.faces.astype('int')).type(torch.int32).unsqueeze(0).to(device)\n",
    "\n",
    "init_mesh = Meshes(init_verts, smplx_faces)\n",
    "displaced_mesh = Meshes(init_verts + (init_mesh.verts_normals_packed() * shape_displacements.unsqueeze(1)), smplx_faces)\n",
    "\n",
    "plot_structure(displaced_mesh)"
   ]
  },
  {
   "cell_type": "code",
   "execution_count": null,
   "metadata": {},
   "outputs": [],
   "source": [
    "### Extract vertex uv pixel positions on a 2D square map\n",
    "# See https://github.com/facebookresearch/pytorch3d/discussions/588\n",
    "\n",
    "def verts_uvs_positions(smplx_uv_path:str, map_size:int=1024):\n",
    "    smplx_uv_mesh = load_obj(smplx_uv_path, load_textures=False)\n",
    "\n",
    "    nb_verts = smplx_uv_mesh[0].shape[0]\n",
    "\n",
    "    flatten_verts_idx = smplx_uv_mesh[1].verts_idx.flatten()\n",
    "    flatten_textures_idx = smplx_uv_mesh[1].textures_idx.flatten()\n",
    "    verts_uvs = smplx_uv_mesh[2].verts_uvs\n",
    "\n",
    "    verts_to_uv_index = torch.zeros(nb_verts, dtype=torch.int64).to(device)\n",
    "    verts_to_uv_index[flatten_verts_idx] = flatten_textures_idx\n",
    "    verts_to_uvs = verts_uvs[verts_to_uv_index]\n",
    "\n",
    "    uv_x = ( float(map_size) * verts_to_uvs[:,0] ).unsqueeze(0).to(device)\n",
    "    uv_y = ( float(map_size) * (1.0 - verts_to_uvs[:,1]) ).unsqueeze(0).to(device)\n",
    "    verts_uvs_positions = torch.cat((uv_x, uv_y)).moveaxis(0,1).round().to(device)\n",
    "\n",
    "    return verts_uvs_positions"
   ]
  },
  {
   "cell_type": "code",
   "execution_count": null,
   "metadata": {},
   "outputs": [],
   "source": [
    "### Create displacement map for each vertex and perform interpolation (inpainint) between vertex values\n",
    "\n",
    "def inpainted_displacements(subject:int, displacements:torch.Tensor, smplx_uv_path:str, path_to_textures:str):\n",
    "    texture = read_image(path_to_textures + 'median_subject_%d.png' % subject)\n",
    "    texture = torch.moveaxis(texture, 0, 2)\n",
    "    map_size = texture.shape[:2]\n",
    "    \n",
    "    verts_uvs = verts_uvs_positions(smplx_uv_path, map_size[0]).flip(1)\n",
    "\n",
    "    mask = (texture[:,:,0] == 0) & (texture[:,:,1] == 0) & (texture[:,:,2] == 0)\n",
    "    displacements_uint = (displacements * 255).round().type(torch.uint8)\n",
    "\n",
    "    interp = interpolate.LinearNDInterpolator(points=verts_uvs, values=displacements_uint.numpy(), fill_value=255/2)\n",
    "    inpainted_displacements = interp( list(np.ndindex(map_size)) ).reshape(map_size)\n",
    "    inpainted_displacements[mask] = 255/2\n",
    "\n",
    "    return torch.Tensor(inpainted_displacements).to(device), ~mask, texture"
   ]
  },
  {
   "cell_type": "code",
   "execution_count": null,
   "metadata": {},
   "outputs": [],
   "source": [
    "### Test displacements inpainting\n",
    "obj_path = drive_path + 'smplx/smplx_uv.obj'\n",
    "texture_path = 'humbi_maps/humbi_body_texture/body_texture_medians/'\n",
    "\n",
    "inpainted, mask, texture = inpainted_displacements(subject, shape_displacements, obj_path, texture_path)"
   ]
  },
  {
   "cell_type": "code",
   "execution_count": null,
   "metadata": {},
   "outputs": [],
   "source": [
    "plt.figure(figsize=(20, 20))\n",
    "plt.imshow(inpainted, cmap='gray')"
   ]
  },
  {
   "cell_type": "code",
   "execution_count": null,
   "metadata": {},
   "outputs": [],
   "source": [
    "plt.figure(figsize=(20, 20))\n",
    "plt.imshow(mask, cmap='gray')"
   ]
  },
  {
   "cell_type": "code",
   "execution_count": null,
   "metadata": {},
   "outputs": [],
   "source": [
    "plt.figure(figsize=(20, 20))\n",
    "plt.imshow(texture)"
   ]
  },
  {
   "cell_type": "code",
   "execution_count": null,
   "metadata": {},
   "outputs": [],
   "source": [
    "### Code displacement mapping to tensor (and check whether it is equal to the source tensor)"
   ]
  }
 ],
 "metadata": {
  "accelerator": "GPU",
  "colab": {
   "collapsed_sections": [],
   "name": "pointcloud_rendering.ipynb",
   "provenance": []
  },
  "kernelspec": {
   "display_name": "Python 3",
   "language": "python",
   "name": "python3"
  },
  "language_info": {
   "codemirror_mode": {
    "name": "ipython",
    "version": 3
   },
   "file_extension": ".py",
   "mimetype": "text/x-python",
   "name": "python",
   "nbconvert_exporter": "python",
   "pygments_lexer": "ipython3",
   "version": "3.9.5"
  }
 },
 "nbformat": 4,
 "nbformat_minor": 4
}
