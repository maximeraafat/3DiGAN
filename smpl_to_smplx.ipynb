{
 "cells": [
  {
   "cell_type": "code",
   "execution_count": null,
   "metadata": {
    "id": "weKUr0Ckkv2S"
   },
   "outputs": [],
   "source": [
    "### Mount google drive if available\n",
    "try:\n",
    "    from google.colab import drive\n",
    "    drive.mount('/content/drive')\n",
    "    drive_path = '/content/drive/MyDrive/term_paper/'\n",
    "    in_colab = True\n",
    "except:\n",
    "    drive_path = ''\n",
    "    in_colab = False"
   ]
  },
  {
   "cell_type": "code",
   "execution_count": null,
   "metadata": {
    "id": "VgJYmow2NB91"
   },
   "outputs": [],
   "source": [
    "### Install all dependecies\n",
    "\n",
    "# pytorch3d\n",
    "import os\n",
    "import sys\n",
    "import torch\n",
    "\n",
    "need_pytorch3d=False\n",
    "try:\n",
    "    import pytorch3d\n",
    "except ModuleNotFoundError:\n",
    "    need_pytorch3d=True\n",
    "\n",
    "if need_pytorch3d:\n",
    "    if torch.__version__.startswith(\"1.10.\") and sys.platform.startswith(\"linux\"):\n",
    "        # We try to install PyTorch3D via a released wheel.\n",
    "        pyt_version_str=torch.__version__.split(\"+\")[0].replace(\".\", \"\")\n",
    "        version_str=\"\".join([\n",
    "            f\"py3{sys.version_info.minor}_cu\",\n",
    "            torch.version.cuda.replace(\".\",\"\"),\n",
    "            f\"_pyt{pyt_version_str}\"\n",
    "        ])\n",
    "        !pip install pytorch3d -f https://dl.fbaipublicfiles.com/pytorch3d/packaging/wheels/{version_str}/download.html\n",
    "    else:\n",
    "        # We try to install PyTorch3D from source.\n",
    "        !curl -LO https://github.com/NVIDIA/cub/archive/1.10.0.tar.gz\n",
    "        !tar xzf 1.10.0.tar.gz\n",
    "        os.environ[\"CUB_HOME\"] = os.getcwd() + \"/cub-1.10.0\"\n",
    "        !pip install 'git+https://github.com/facebookresearch/pytorch3d.git@stable'\n",
    "\n",
    "\n",
    "# smpl-x\n",
    "need_smplx=False\n",
    "try:\n",
    "    import smplx\n",
    "except ModuleNotFoundError:\n",
    "    need_smplx=True\n",
    "\n",
    "if need_smplx:\n",
    "    !pip install smplx\n",
    "    !git clone https://github.com/vchoutas/smplx\n",
    "    %cd smplx\n",
    "    !python setup.py install\n",
    "    %cd ..\n",
    "\n",
    "\n",
    "# cleanup\n",
    "!rm -rf 1.10.0.tar.gz cub-1.10.0/"
   ]
  },
  {
   "cell_type": "code",
   "execution_count": null,
   "metadata": {},
   "outputs": [],
   "source": [
    "import smplx\n",
    "import matplotlib.pyplot as plt\n",
    "from pytorch3d.structures import Meshes\n",
    "\n",
    "from utils.plot_structures import plot_structure\n",
    "from utils.smpl_to_smplx import humbi_smpl_mesh, construct_smplx_mesh, smpl2smplx\n",
    "from utils.smplx_to_disps import smplx2disps\n",
    "from utils.inpainting import get_disps_inpaint"
   ]
  },
  {
   "cell_type": "code",
   "execution_count": null,
   "metadata": {},
   "outputs": [],
   "source": [
    "### Setup\n",
    "device = torch.device('cuda' if torch.cuda.is_available() else 'cpu')"
   ]
  },
  {
   "cell_type": "code",
   "execution_count": null,
   "metadata": {},
   "outputs": [],
   "source": [
    "subject = 122\n",
    "pose = '00000001'\n",
    "\n",
    "smplx_model_path = drive_path + 'smplx'\n",
    "smplx_model = smplx.SMPLXLayer(smplx_model_path, 'neutral').to(device)"
   ]
  },
  {
   "cell_type": "code",
   "execution_count": null,
   "metadata": {},
   "outputs": [],
   "source": [
    "global_orient, transl, body_pose, betas, scale, pose_loss, shape_loss = smpl2smplx(smplx_model, subject, pose, pose_iterations=200, shape_iterations=100)"
   ]
  },
  {
   "cell_type": "code",
   "execution_count": null,
   "metadata": {},
   "outputs": [],
   "source": [
    "smpl_mesh = humbi_smpl_mesh(subject, pose)\n",
    "smplx_mesh = construct_smplx_mesh(smplx_model, global_orient, transl, body_pose, betas, scale)\n",
    "\n",
    "plot_structure([smpl_mesh, smplx_mesh])"
   ]
  },
  {
   "cell_type": "code",
   "execution_count": null,
   "metadata": {},
   "outputs": [],
   "source": [
    "shape_displacements = smplx2disps(smplx_model, betas, scale)\n",
    "\n",
    "init_verts = smplx_model.forward()['vertices'].to(device)\n",
    "smplx_faces = torch.Tensor(smplx_model.faces.astype('int')).type(torch.int32).unsqueeze(0).to(device)\n",
    "\n",
    "init_mesh = Meshes(init_verts, smplx_faces)\n",
    "displaced_mesh = Meshes(init_verts + (init_mesh.verts_normals_packed() * shape_displacements.unsqueeze(1)), smplx_faces)\n",
    "\n",
    "plot_structure([init_mesh, displaced_mesh])"
   ]
  },
  {
   "cell_type": "code",
   "execution_count": null,
   "metadata": {},
   "outputs": [],
   "source": [
    "obj_path = drive_path + 'smplx/smplx_uv.obj'\n",
    "texture_path = 'humbi_maps/00000025_humbi_body_texture/body_texture_medians/'\n",
    "\n",
    "inpainted, mask, texture = get_disps_inpaint(subject, shape_displacements, obj_path, texture_path, mask_disps=True)"
   ]
  },
  {
   "cell_type": "code",
   "execution_count": null,
   "metadata": {},
   "outputs": [],
   "source": [
    "plt.figure(figsize=(10, 10))\n",
    "plt.imshow(inpainted, cmap='gray')\n",
    "\n",
    "plt.figure(figsize=(10, 10))\n",
    "plt.imshow(mask, cmap='gray')\n",
    "\n",
    "plt.figure(figsize=(10, 10))\n",
    "plt.imshow(texture)"
   ]
  }
 ],
 "metadata": {
  "accelerator": "GPU",
  "colab": {
   "collapsed_sections": [],
   "name": "pointcloud_rendering.ipynb",
   "provenance": []
  },
  "kernelspec": {
   "display_name": "Python 3",
   "language": "python",
   "name": "python3"
  },
  "language_info": {
   "codemirror_mode": {
    "name": "ipython",
    "version": 3
   },
   "file_extension": ".py",
   "mimetype": "text/x-python",
   "name": "python",
   "nbconvert_exporter": "python",
   "pygments_lexer": "ipython3",
   "version": "3.9.5"
  }
 },
 "nbformat": 4,
 "nbformat_minor": 4
}
